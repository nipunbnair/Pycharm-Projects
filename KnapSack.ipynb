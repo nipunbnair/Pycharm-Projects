{
 "cells": [
  {
   "cell_type": "code",
   "execution_count": 1,
   "id": "d95c668c",
   "metadata": {},
   "outputs": [
    {
     "name": "stdout",
     "output_type": "stream",
     "text": [
      "Maximum value in Knapsack = 240.0\n"
     ]
    }
   ],
   "source": [
    "# Python3 program to solve fractional\n",
    "# Knapsack Problem\n",
    " \n",
    " \n",
    "class ItemValue:\n",
    " \n",
    "    \"\"\"Item Value DataClass\"\"\"\n",
    " \n",
    "    def __init__(self, wt, val, ind):\n",
    "        self.wt = wt\n",
    "        self.val = val\n",
    "        self.ind = ind\n",
    "        self.cost = val // wt\n",
    " \n",
    "    def __lt__(self, other):\n",
    "        return self.cost < other.cost\n",
    " \n",
    "# Greedy Approach\n",
    " \n",
    " \n",
    "class FractionalKnapSack:\n",
    " \n",
    "    \"\"\"Time Complexity O(n log n)\"\"\"\n",
    "    @staticmethod\n",
    "    def getMaxValue(wt, val, capacity):\n",
    "        \"\"\"function to get maximum value \"\"\"\n",
    "        iVal = []\n",
    "        for i in range(len(wt)):\n",
    "            iVal.append(ItemValue(wt[i], val[i], i))\n",
    " \n",
    "        # sorting items by value\n",
    "        iVal.sort(reverse=True)\n",
    " \n",
    "        totalValue = 0\n",
    "        for i in iVal:\n",
    "            curWt = int(i.wt)\n",
    "            curVal = int(i.val)\n",
    "            if capacity - curWt >= 0:\n",
    "                capacity -= curWt\n",
    "                totalValue += curVal\n",
    "            else:\n",
    "                fraction = capacity / curWt\n",
    "                totalValue += curVal * fraction\n",
    "                capacity = int(capacity - (curWt * fraction))\n",
    "                break\n",
    "        return totalValue\n",
    " \n",
    " \n",
    "# Driver Code\n",
    "if __name__ == \"__main__\":\n",
    "    wt = [10, 40, 20, 30]\n",
    "    val = [60, 40, 100, 120]\n",
    "    capacity = 50\n",
    " \n",
    "    # Function call\n",
    "    maxValue = FractionalKnapSack.getMaxValue(wt, val, capacity)\n",
    "    print(\"Maximum value in Knapsack =\", maxValue)"
   ]
  },
  {
   "cell_type": "code",
   "execution_count": null,
   "id": "0f2c9cbd",
   "metadata": {},
   "outputs": [],
   "source": []
  }
 ],
 "metadata": {
  "kernelspec": {
   "display_name": "Python 3",
   "language": "python",
   "name": "python3"
  },
  "language_info": {
   "codemirror_mode": {
    "name": "ipython",
    "version": 3
   },
   "file_extension": ".py",
   "mimetype": "text/x-python",
   "name": "python",
   "nbconvert_exporter": "python",
   "pygments_lexer": "ipython3",
   "version": "3.8.8"
  }
 },
 "nbformat": 4,
 "nbformat_minor": 5
}
