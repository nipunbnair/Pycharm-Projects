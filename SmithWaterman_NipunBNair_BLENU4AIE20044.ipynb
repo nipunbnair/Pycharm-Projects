{
 "cells": [
  {
   "cell_type": "code",
   "execution_count": 15,
   "id": "0e3579ed",
   "metadata": {},
   "outputs": [],
   "source": [
    "import itertools\n",
    "import numpy as np\n",
    "\n",
    "def matrix(a, b, match_score=3, gap_cost=2):\n",
    "    H = np.zeros((len(a) + 1, len(b) + 1), int)\n",
    "\n",
    "    for i, j in itertools.product(range(1, H.shape[0]), range(1, H.shape[1])):\n",
    "        match = H[i - 1, j - 1] + (match_score if a[i - 1] == b[j - 1] else - match_score)\n",
    "        delete = H[i - 1, j] - gap_cost\n",
    "        insert = H[i, j - 1] - gap_cost\n",
    "        H[i, j] = max(match, delete, insert, 0)\n",
    "    return H"
   ]
  },
  {
   "cell_type": "code",
   "execution_count": 16,
   "id": "9e6d5b46",
   "metadata": {},
   "outputs": [],
   "source": [
    "def traceback(H, b, b_='', old_i=0):\n",
    "    # flip H to get index of **last** occurrence of H.max() with np.argmax()\n",
    "    H_flip = np.flip(np.flip(H, 0), 1)\n",
    "    i_, j_ = np.unravel_index(H_flip.argmax(), H_flip.shape)\n",
    "    i, j = np.subtract(H.shape, (i_ + 1, j_ + 1))  # (i, j) are **last** indexes of H.max()\n",
    "    if H[i, j] == 0:\n",
    "        return b_, j\n",
    "    b_ = b[j - 1] + '-' + b_ if old_i - i > 1 else b[j - 1] + b_\n",
    "    return traceback(H[0:i, 0:j], b, b_, i)\n"
   ]
  },
  {
   "cell_type": "code",
   "execution_count": 17,
   "id": "89fe5599",
   "metadata": {},
   "outputs": [],
   "source": [
    "def smith_waterman(a, b, match_score=3, gap_cost=2):\n",
    "    a, b = a.upper(), b.upper()\n",
    "    H = matrix(a, b, match_score, gap_cost)\n",
    "    b_, pos = traceback(H, b)\n",
    "    return pos, pos + len(b_)"
   ]
  },
  {
   "cell_type": "code",
   "execution_count": 18,
   "id": "af5f3f19",
   "metadata": {},
   "outputs": [
    {
     "name": "stdout",
     "output_type": "stream",
     "text": [
      "[[ 0  0  0  0  0]\n",
      " [ 0  3  1  0  0]\n",
      " [ 0  1  0  0  3]\n",
      " [ 0  0  4  2  1]\n",
      " [ 0  0  2  7  5]\n",
      " [ 0  0  0  5 10]]\n",
      "('a-gct', 0)\n",
      "ATGCT\n"
     ]
    }
   ],
   "source": [
    "print(matrix('ATGCT', 'AGCT'))\n",
    "a, b = 'atgct', 'agct'\n",
    "H = matrix(a, b)\n",
    "print(traceback(H, b))\n",
    "a, b = 'ATGCT', 'AGCT'\n",
    "start, end = smith_waterman(a, b)\n",
    "print(a[start:end])     "
   ]
  },
  {
   "cell_type": "code",
   "execution_count": 19,
   "id": "878698d5",
   "metadata": {},
   "outputs": [
    {
     "name": "stdout",
     "output_type": "stream",
     "text": [
      "[[ 0  0  0  0  0]\n",
      " [ 0  3  3  1  0]\n",
      " [ 0  3  6  4  2]\n",
      " [ 0  1  4  3  1]\n",
      " [ 0  0  2  7  5]\n",
      " [ 0  0  0  5 10]]\n",
      "('aa-cg', 0)\n",
      "AATCG\n"
     ]
    }
   ],
   "source": [
    "print(matrix('AATCG', 'AACG'))\n",
    "a, b = 'aatcg', 'aacg'\n",
    "H = matrix(a, b)\n",
    "print(traceback(H, b))\n",
    "a, b = 'AATCG', 'AACG'\n",
    "start, end = smith_waterman(a, b)\n",
    "print(a[start:end])    "
   ]
  },
  {
   "cell_type": "code",
   "execution_count": null,
   "id": "b103348a",
   "metadata": {},
   "outputs": [],
   "source": []
  }
 ],
 "metadata": {
  "kernelspec": {
   "display_name": "Python 3",
   "language": "python",
   "name": "python3"
  },
  "language_info": {
   "codemirror_mode": {
    "name": "ipython",
    "version": 3
   },
   "file_extension": ".py",
   "mimetype": "text/x-python",
   "name": "python",
   "nbconvert_exporter": "python",
   "pygments_lexer": "ipython3",
   "version": "3.8.8"
  }
 },
 "nbformat": 4,
 "nbformat_minor": 5
}
