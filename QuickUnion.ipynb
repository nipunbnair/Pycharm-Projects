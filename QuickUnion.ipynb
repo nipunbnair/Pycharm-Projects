{
 "cells": [
  {
   "cell_type": "code",
   "execution_count": 11,
   "id": "725692a4",
   "metadata": {},
   "outputs": [
    {
     "name": "stdout",
     "output_type": "stream",
     "text": [
      "0  \n",
      "3  \n",
      "3  \n",
      "6  \n",
      "4  \n",
      "8  \n",
      "4  \n",
      "7  \n",
      "8  \n",
      "9  \n",
      "True\n",
      "True\n"
     ]
    }
   ],
   "source": [
    "class QuickUnionUF:\n",
    "    def __init__(self,n):\n",
    "        self.id=[]\n",
    "        self.N= n\n",
    "        for i in range(0,n):\n",
    "            self.id.append(i)\n",
    "            \n",
    "    def find(self,p):\n",
    "        while not(p==self.id[p]):\n",
    "                p=self.id[p]\n",
    "        return p\n",
    "    \n",
    "    def union(self,p,q):\n",
    "        root1=self.find(p)\n",
    "        root2=self.find(q)\n",
    "        self.id[root1]=root2\n",
    "                    \n",
    "    def connect(self,p,q): \n",
    "        return self.find(p) == self.find(q);\n",
    "        \n",
    "    def display(self):\n",
    "        for i in range(self.N):\n",
    "            print(self.id[i],\" \")\n",
    "            \n",
    "           \n",
    "\n",
    "\n",
    "        \n",
    "G1=QuickUnionUF(10)\n",
    "G1.union(2,3)\n",
    "G1.union(1,3)\n",
    "G1.union(5,8)\n",
    "G1.union(2,6)\n",
    "G1.union(1,4)\n",
    "G1.display()\n",
    "# Quick union\n",
    "print(G1.connect(2,4))  \n",
    "print(G1.connect(5,8))"
   ]
  },
  {
   "cell_type": "code",
   "execution_count": null,
   "id": "0e484820",
   "metadata": {},
   "outputs": [],
   "source": []
  }
 ],
 "metadata": {
  "kernelspec": {
   "display_name": "Python 3",
   "language": "python",
   "name": "python3"
  },
  "language_info": {
   "codemirror_mode": {
    "name": "ipython",
    "version": 3
   },
   "file_extension": ".py",
   "mimetype": "text/x-python",
   "name": "python",
   "nbconvert_exporter": "python",
   "pygments_lexer": "ipython3",
   "version": "3.8.8"
  }
 },
 "nbformat": 4,
 "nbformat_minor": 5
}
