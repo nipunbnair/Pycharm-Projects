{
 "cells": [
  {
   "cell_type": "code",
   "execution_count": 1,
   "id": "a64cce1a",
   "metadata": {},
   "outputs": [
    {
     "name": "stdout",
     "output_type": "stream",
     "text": [
      "0 0 1 0 \n",
      "1 0 0 0 \n",
      "0 0 0 1 \n",
      "0 1 0 0 \n"
     ]
    },
    {
     "data": {
      "text/plain": [
       "True"
      ]
     },
     "execution_count": 1,
     "metadata": {},
     "output_type": "execute_result"
    }
   ],
   "source": [
    "# Python3 program to solve N Queen\n",
    "# Problem using backtracking\n",
    "global N\n",
    "N = 4\n",
    "\n",
    "def printSolution(board):\n",
    "\tfor i in range(N):\n",
    "\t\tfor j in range(N):\n",
    "\t\t\tprint (board[i][j], end = \" \")\n",
    "\t\tprint()\n",
    "\n",
    "# A utility function to check if a queen can\n",
    "# be placed on board[row][col]. Note that this\n",
    "# function is called when \"col\" queens are\n",
    "# already placed in columns from 0 to col -1.\n",
    "# So we need to check only left side for\n",
    "# attacking queens\n",
    "def isSafe(board, row, col):\n",
    "\n",
    "\t# Check this row on left side\n",
    "\tfor i in range(col):\n",
    "\t\tif board[row][i] == 1:\n",
    "\t\t\treturn False\n",
    "\n",
    "\t# Check upper diagonal on left side\n",
    "\tfor i, j in zip(range(row, -1, -1),\n",
    "\t\t\t\t\trange(col, -1, -1)):\n",
    "\t\tif board[i][j] == 1:\n",
    "\t\t\treturn False\n",
    "\n",
    "\t# Check lower diagonal on left side\n",
    "\tfor i, j in zip(range(row, N, 1),\n",
    "\t\t\t\t\trange(col, -1, -1)):\n",
    "\t\tif board[i][j] == 1:\n",
    "\t\t\treturn False\n",
    "\n",
    "\treturn True\n",
    "\n",
    "def solveNQUtil(board, col):\n",
    "\t\n",
    "\t# base case: If all queens are placed\n",
    "\t# then return true\n",
    "\tif col >= N:\n",
    "\t\treturn True\n",
    "\n",
    "\t# Consider this column and try placing\n",
    "\t# this queen in all rows one by one\n",
    "\tfor i in range(N):\n",
    "\n",
    "\t\tif isSafe(board, i, col):\n",
    "\t\t\t\n",
    "\t\t\t# Place this queen in board[i][col]\n",
    "\t\t\tboard[i][col] = 1\n",
    "\n",
    "\t\t\t# recur to place rest of the queens\n",
    "\t\t\tif solveNQUtil(board, col + 1) == True:\n",
    "\t\t\t\treturn True\n",
    "\n",
    "\t\t\t# If placing queen in board[i][col\n",
    "\t\t\t# doesn't lead to a solution, then\n",
    "\t\t\t# queen from board[i][col]\n",
    "\t\t\tboard[i][col] = 0\n",
    "\n",
    "\t# if the queen can not be placed in any row in\n",
    "\t# this column col then return false\n",
    "\treturn False\n",
    "\n",
    "# This function solves the N Queen problem using\n",
    "# Backtracking. It mainly uses solveNQUtil() to\n",
    "# solve the problem. It returns false if queens\n",
    "# cannot be placed, otherwise return true and\n",
    "# placement of queens in the form of 1s.\n",
    "# note that there may be more than one\n",
    "# solutions, this function prints one of the\n",
    "# feasible solutions.\n",
    "def solveNQ():\n",
    "\tboard = [ [0, 0, 0, 0],\n",
    "\t\t\t[0, 0, 0, 0],\n",
    "\t\t\t[0, 0, 0, 0],\n",
    "\t\t\t[0, 0, 0, 0] ]\n",
    "\n",
    "\tif solveNQUtil(board, 0) == False:\n",
    "\t\tprint (\"Solution does not exist\")\n",
    "\t\treturn False\n",
    "\n",
    "\tprintSolution(board)\n",
    "\treturn True\n",
    "\n",
    "# Driver Code\n",
    "solveNQ()\n",
    "\n"
   ]
  },
  {
   "cell_type": "code",
   "execution_count": null,
   "id": "cb87216d",
   "metadata": {},
   "outputs": [],
   "source": []
  }
 ],
 "metadata": {
  "kernelspec": {
   "display_name": "Python 3",
   "language": "python",
   "name": "python3"
  },
  "language_info": {
   "codemirror_mode": {
    "name": "ipython",
    "version": 3
   },
   "file_extension": ".py",
   "mimetype": "text/x-python",
   "name": "python",
   "nbconvert_exporter": "python",
   "pygments_lexer": "ipython3",
   "version": "3.8.8"
  }
 },
 "nbformat": 4,
 "nbformat_minor": 5
}
