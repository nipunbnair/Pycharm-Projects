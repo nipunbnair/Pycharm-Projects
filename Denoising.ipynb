{
 "cells": [
  {
   "cell_type": "code",
   "execution_count": 1,
   "id": "bb057050",
   "metadata": {},
   "outputs": [],
   "source": [
    "import cv2\n",
    "import numpy as np\n",
    "from matplotlib import pyplot as plt\n",
    "plt.style.use('seaborn')"
   ]
  },
  {
   "cell_type": "code",
   "execution_count": 3,
   "id": "4be16236",
   "metadata": {},
   "outputs": [],
   "source": [
    "image = cv2.imread('http://localhost:8888/view/PycharmProjects/app/Team15_EndSemProject/Datasets/Test/0/10261_idx5_x1001_y351_class0.png')"
   ]
  },
  {
   "cell_type": "code",
   "execution_count": 4,
   "id": "3e53593f",
   "metadata": {},
   "outputs": [
    {
     "ename": "error",
     "evalue": "OpenCV(4.5.4) D:\\a\\opencv-python\\opencv-python\\opencv\\modules\\photo\\src\\denoising.cpp:178: error: (-5:Bad argument) Type of input image should be CV_8UC3 or CV_8UC4! in function 'cv::fastNlMeansDenoisingColored'\n",
     "output_type": "error",
     "traceback": [
      "\u001b[1;31m---------------------------------------------------------------------------\u001b[0m",
      "\u001b[1;31merror\u001b[0m                                     Traceback (most recent call last)",
      "\u001b[1;32m<ipython-input-4-aa745e4f10b0>\u001b[0m in \u001b[0;36m<module>\u001b[1;34m\u001b[0m\n\u001b[1;32m----> 1\u001b[1;33m \u001b[0mdst\u001b[0m \u001b[1;33m=\u001b[0m \u001b[0mcv2\u001b[0m\u001b[1;33m.\u001b[0m\u001b[0mfastNlMeansDenoisingColored\u001b[0m\u001b[1;33m(\u001b[0m\u001b[0mimage\u001b[0m\u001b[1;33m,\u001b[0m \u001b[1;32mNone\u001b[0m\u001b[1;33m,\u001b[0m \u001b[1;36m11\u001b[0m\u001b[1;33m,\u001b[0m \u001b[1;36m6\u001b[0m\u001b[1;33m,\u001b[0m \u001b[1;36m7\u001b[0m\u001b[1;33m,\u001b[0m \u001b[1;36m21\u001b[0m\u001b[1;33m)\u001b[0m\u001b[1;33m\u001b[0m\u001b[1;33m\u001b[0m\u001b[0m\n\u001b[0m",
      "\u001b[1;31merror\u001b[0m: OpenCV(4.5.4) D:\\a\\opencv-python\\opencv-python\\opencv\\modules\\photo\\src\\denoising.cpp:178: error: (-5:Bad argument) Type of input image should be CV_8UC3 or CV_8UC4! in function 'cv::fastNlMeansDenoisingColored'\n"
     ]
    }
   ],
   "source": [
    "dst = cv2.fastNlMeansDenoisingColored(image, None, 11, 6, 7, 21)"
   ]
  },
  {
   "cell_type": "code",
   "execution_count": null,
   "id": "bb56e945",
   "metadata": {},
   "outputs": [],
   "source": [
    "row, col = 1, 2\n",
    "fig, axs = plt.subplots(row, col, figsize=(15, 10))\n",
    "fig.tight_layout()\n",
    "axs[0].imshow(cv2.cvtColor(image, cv2.COLOR_BGR2RGB))\n",
    "axs[0].set_title('Elephant')\n",
    "axs[1].imshow(cv2.cvtColor(dst, cv2.COLOR_BGR2RGB))\n",
    "axs[1].set_title('Fast Means Denoising')\n",
    "plt.show()"
   ]
  },
  {
   "cell_type": "code",
   "execution_count": null,
   "id": "ec7aa987",
   "metadata": {},
   "outputs": [],
   "source": [
    "import cv2\n",
    "import numpy as np\n",
    "from matplotlib import pyplot as plt\n",
    "plt.style.use('seaborn')\n",
    " \n",
    "image = cv2.imread('http://localhost:8888/view/PycharmProjects/app/Team15_EndSemProject/Datasets/Test/0/10261_idx5_x1001_y351_class0.png')\n",
    "dst = cv2.fastNlMeansDenoisingColored(image, None, 11, 6, 7, 21)\n",
    " \n",
    "row, col = 1, 2\n",
    "fig, axs = plt.subplots(row, col, figsize=(15, 10))\n",
    "fig.tight_layout()\n",
    "axs[0].imshow(cv2.cvtColor(image, cv2.COLOR_BGR2RGB))\n",
    "axs[0].set_title('Elephant')\n",
    "axs[1].imshow(cv2.cvtColor(dst, cv2.COLOR_BGR2RGB))\n",
    "axs[1].set_title('Fast Means Denoising')\n",
    "plt.show()"
   ]
  },
  {
   "cell_type": "code",
   "execution_count": null,
   "id": "395d5601",
   "metadata": {},
   "outputs": [],
   "source": []
  }
 ],
 "metadata": {
  "kernelspec": {
   "display_name": "Python 3",
   "language": "python",
   "name": "python3"
  },
  "language_info": {
   "codemirror_mode": {
    "name": "ipython",
    "version": 3
   },
   "file_extension": ".py",
   "mimetype": "text/x-python",
   "name": "python",
   "nbconvert_exporter": "python",
   "pygments_lexer": "ipython3",
   "version": "3.8.8"
  }
 },
 "nbformat": 4,
 "nbformat_minor": 5
}
