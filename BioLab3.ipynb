{
 "cells": [
  {
   "cell_type": "code",
   "execution_count": 2,
   "id": "5ec2837a",
   "metadata": {},
   "outputs": [],
   "source": [
    "import itertools\n",
    "ParentMass = 484\n",
    "Amino=\"GASPVTCILNDKQEMHFRYW\"\n",
    "Spectrum=[0, 113, 114, 128, 129, 242, 242, 257, 370, 371, 484]\n",
    "AminoWeight={'G':57,'A':71,'S':87,'P':97,'V':99,'T':101,'C':103,'I':113,'L':113,'N':114,'D':115,'K':128,'Q':128,'E':129,'M':131,'H':137,'F':147,'R':156,'Y':163,'W':186}\n",
    "def getAminoWeight(x):\n",
    "    w=0\n",
    "    for i in x:\n",
    "        w=w+AminoWeight[i]\n",
    "    return w"
   ]
  },
  {
   "cell_type": "code",
   "execution_count": 16,
   "id": "f4cac418",
   "metadata": {},
   "outputs": [
    {
     "name": "stdout",
     "output_type": "stream",
     "text": [
      "164\n",
      "['I', 'L', 'N', 'K', 'Q', 'E', 'IE', 'IE', 'LE', 'LE', 'NK', 'NK', 'NQ', 'NQ', 'KN', 'KN', 'KE', 'QN', 'QN', 'QE', 'EI', 'EI', 'EL', 'EL', 'EK', 'EQ', 'IKE', 'IQE', 'IEK', 'IEQ', 'LKE', 'LQE', 'LEK', 'LEQ', 'NKQ', 'NKE', 'NQK', 'NQE', 'NEK', 'NEQ', 'KIE', 'KLE', 'KNQ', 'KNE', 'KQN', 'KEI', 'KEL', 'KEN', 'QIE', 'QLE', 'QNK', 'QNE', 'QKN', 'QEI', 'QEL', 'QEN', 'EIK', 'EIQ', 'ELK', 'ELQ', 'ENK', 'ENQ', 'EKI', 'EKL', 'EKN', 'EQI', 'EQL', 'EQN', 'INKE', 'INQE', 'INEK', 'INEQ', 'IKNE', 'IKEN', 'IQNE', 'IQEN', 'IENK', 'IENQ', 'IEKN', 'IEQN', 'LNKE', 'LNQE', 'LNEK', 'LNEQ', 'LKNE', 'LKEN', 'LQNE', 'LQEN', 'LENK', 'LENQ', 'LEKN', 'LEQN', 'NIKE', 'NIQE', 'NIEK', 'NIEQ', 'NLKE', 'NLQE', 'NLEK', 'NLEQ', 'NKIE', 'NKLE', 'NKEI', 'NKEL', 'NQIE', 'NQLE', 'NQEI', 'NQEL', 'NEIK', 'NEIQ', 'NELK', 'NELQ', 'NEKI', 'NEKL', 'NEQI', 'NEQL', 'KINE', 'KIEN', 'KLNE', 'KLEN', 'KNIE', 'KNLE', 'KNEI', 'KNEL', 'KEIN', 'KELN', 'KENI', 'KENL', 'QINE', 'QIEN', 'QLNE', 'QLEN', 'QNIE', 'QNLE', 'QNEI', 'QNEL', 'QEIN', 'QELN', 'QENI', 'QENL', 'EINK', 'EINQ', 'EIKN', 'EIQN', 'ELNK', 'ELNQ', 'ELKN', 'ELQN', 'ENIK', 'ENIQ', 'ENLK', 'ENLQ', 'ENKI', 'ENKL', 'ENQI', 'ENQL', 'EKIN', 'EKLN', 'EKNI', 'EKNL', 'EQIN', 'EQLN', 'EQNI', 'EQNL']\n"
     ]
    }
   ],
   "source": [
    "def permutate_all_substrings(text):\n",
    "    permutations = []\n",
    "    for p in itertools.permutations(text, 1):\n",
    "        for j in range(0,len(Spectrum)):\n",
    "            if getAminoWeight(p) == Spectrum[j]:\n",
    "                permutations.append(\"\".join(p))\n",
    "                        \n",
    "    ptext=\"\"\n",
    "    for x in permutations:\n",
    "        ptext+=x\n",
    "\n",
    "    for length in range(2,5):\n",
    "        for p in itertools.permutations(ptext, length):\n",
    "                 for j in range(0,len(Spectrum)):\n",
    "                    if getAminoWeight(p) == Spectrum[j]:\n",
    "                        permutations.append(\"\".join(p))\n",
    "                        \n",
    "      \n",
    "            \n",
    "    return permutations\n",
    "        \n",
    "AllPossible = permutate_all_substrings(Amino)\n",
    "print(len(AllPossible))\n",
    "print((AllPossible))\n",
    "\n"
   ]
  },
  {
   "cell_type": "code",
   "execution_count": 17,
   "id": "21ab5d90",
   "metadata": {},
   "outputs": [
    {
     "name": "stdout",
     "output_type": "stream",
     "text": [
      "{'KNIE', 'EKLN', 'LEQ', 'NEIQ', 'IE', 'IKE', 'QLE', 'EIQ', 'QENI', 'LQNE', 'NEK', 'EQN', 'IKNE', 'NQ', 'IEK', 'NEIK', 'NEKI', 'QEIN', 'EIKN', 'QLEN', 'QNEI', 'NIEQ', 'ENQL', 'QIEN', 'LEQN', 'ENK', 'LEK', 'EI', 'EL', 'INEQ', 'NKEL', 'NELQ', 'ENQI', 'EKNI', 'ELQN', 'KNQ', 'EINK', 'NLQE', 'Q', 'KLE', 'EK', 'QINE', 'ENLK', 'NQEL', 'IKEN', 'EQL', 'NELK', 'INEK', 'NKE', 'NIQE', 'NQEI', 'KQN', 'EKNL', 'IQNE', 'QNK', 'LENK', 'KELN', 'INQE', 'KE', 'ENKI', 'NKEI', 'KLEN', 'ELNQ', 'IEQ', 'KENI', 'LE', 'ELKN', 'QEI', 'KEI', 'ENIQ', 'IENQ', 'EQI', 'QNLE', 'KNLE', 'KNE', 'KEIN', 'LQE', 'LKNE', 'QE', 'LNEQ', 'NEQL', 'NQLE', 'EKIN', 'EKN', 'E', 'KLNE', 'EIQN', 'NIEK', 'QELN', 'ELNK', 'KINE', 'LKE', 'NLEQ', 'QNEL', 'IQE', 'KEN', 'LEKN', 'IENK', 'EQIN', 'QNIE', 'QKN', 'K', 'EQNL', 'EKI', 'NLEK', 'ENQ', 'KIE', 'EINQ', 'QIE', 'NEQI', 'NQE', 'QENL', 'KN', 'NK', 'NEQ', 'QEL', 'ELQ', 'NLKE', 'ENKL', 'EQLN', 'LENQ', 'LNEK', 'IQEN', 'LKEN', 'NQK', 'ENLQ', 'KENL', 'NKIE', 'LNQE', 'IEKN', 'NKQ', 'IEQN', 'NKLE', 'EIK', 'EKL', 'KNEI', 'NQIE', 'LQEN', 'KNEL', 'EQ', 'QEN', 'ENIK', 'INKE', 'ELK', 'QNE', 'QN', 'EQNI', 'KEL', 'NIKE', 'KIEN', 'LNKE', 'NEKL', 'N', 'I', 'L', 'QLNE'}\n",
      "156\n"
     ]
    }
   ],
   "source": [
    "k=set(AllPossible)\n",
    "print(k)\n",
    "print(len(k))"
   ]
  },
  {
   "cell_type": "code",
   "execution_count": 2,
   "id": "19f52a27",
   "metadata": {},
   "outputs": [
    {
     "name": "stdout",
     "output_type": "stream",
     "text": [
      "The missing Masses [129, 242, 242]\n",
      "The false mass [99, 299]\n"
     ]
    }
   ],
   "source": [
    "# 2\n",
    "theoretical=[0,113,114,128,129,227,242,242,257,355,356,370,371,484]\n",
    "experimental=[0,99,113,114,128,227, 257 ,299,355,356,370,371,484]\n",
    "false_mass=[]\n",
    "missing_mass=[]\n",
    "for x in theoretical:\n",
    "    if x not in experimental:\n",
    "        missing_mass.append(x)\n",
    "\n",
    "print(\"The missing Masses\",missing_mass)\n",
    "for y in experimental:\n",
    "    if y not in theoretical:\n",
    "        false_mass.append(y)\n",
    "print(\"The false mass\",false_mass)"
   ]
  },
  {
   "cell_type": "code",
   "execution_count": null,
   "id": "5de3f021",
   "metadata": {},
   "outputs": [],
   "source": [
    "def expand(text):\n",
    "    permutations = []\n",
    "    for length in range(1,4):\n",
    "        for p in itertools.permutations(text, length):\n",
    "              permutations.append(\"\".join(p))\n",
    "    return permutations"
   ]
  },
  {
   "cell_type": "code",
   "execution_count": null,
   "id": "24b96cd6",
   "metadata": {},
   "outputs": [],
   "source": [
    "Leaderboard=set(\"\")\n",
    "Leaderpeptide=[]\n",
    "Leaderboard=expand(\"NQEL\")\n",
    "for p in Leaderboard:\n",
    "    "
   ]
  }
 ],
 "metadata": {
  "kernelspec": {
   "display_name": "Python 3",
   "language": "python",
   "name": "python3"
  },
  "language_info": {
   "codemirror_mode": {
    "name": "ipython",
    "version": 3
   },
   "file_extension": ".py",
   "mimetype": "text/x-python",
   "name": "python",
   "nbconvert_exporter": "python",
   "pygments_lexer": "ipython3",
   "version": "3.8.8"
  }
 },
 "nbformat": 4,
 "nbformat_minor": 5
}
