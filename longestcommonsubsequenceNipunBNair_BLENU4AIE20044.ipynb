{
 "cells": [
  {
   "cell_type": "code",
   "execution_count": 36,
   "id": "bc342fb4",
   "metadata": {},
   "outputs": [
    {
     "name": "stdout",
     "output_type": "stream",
     "text": [
      "The length of the LCS is 4\n"
     ]
    }
   ],
   "source": [
    "# Function to find the length of the longest common subsequence of substring\n",
    "def LCSLength(X, Y, m, n, lookup):\n",
    " \n",
    "    # return if the end of either string is reached\n",
    "    if m == 0 or n == 0:\n",
    "        return 0\n",
    " \n",
    "    # construct a unique key from dynamic elements of the input\n",
    "    key = (m, n)\n",
    " \n",
    "    # if the subproblem is seen for the first time, solve it and\n",
    "    # store its result in a dictionary\n",
    "    if key not in lookup:\n",
    " \n",
    "        # if the last character of `X` and `Y` matches\n",
    "        if X[m - 1] == Y[n - 1]:\n",
    "            lookup[key] = LCSLength(X, Y, m - 1, n - 1, lookup) + 1\n",
    " \n",
    "        else:\n",
    "            # otherwise, if the last character of `X` and `Y` don't match\n",
    "            lookup[key] = max(LCSLength(X, Y, m, n - 1, lookup),LCSLength(X, Y, m - 1, n, lookup))\n",
    " \n",
    "    # return the subproblem solution from the dictionary\n",
    "    return lookup[key]\n",
    " \n",
    " \n",
    "    \n",
    "if __name__ == '__main__':\n",
    " \n",
    "    X = 'ATGTTATA'\n",
    "    Y = 'ATCGTCC'\n",
    " \n",
    "    # create a dictionary to store solutions to subproblems\n",
    "    lookup = {}\n",
    " \n",
    "    print('The length of the LCS is', LCSLength(X, Y, len(X), len(Y), lookup))\n",
    " \n"
   ]
  },
  {
   "cell_type": "code",
   "execution_count": 37,
   "id": "ea87de63",
   "metadata": {},
   "outputs": [
    {
     "name": "stdout",
     "output_type": "stream",
     "text": [
      "The length of the LCS is 5\n"
     ]
    }
   ],
   "source": [
    "# Function to find the length of the longest common subsequence of substring\n",
    "def LCSLength(X, Y, m, n, lookup):\n",
    " \n",
    "    # return if the end of either string is reached\n",
    "    if m == 0 or n == 0:\n",
    "        return 0\n",
    " \n",
    "    # construct a unique key from dynamic elements of the input\n",
    "    key = (m, n)\n",
    " \n",
    "    # if the subproblem is seen for the first time, solve it and\n",
    "    # store its result in a dictionary\n",
    "    if key not in lookup:\n",
    " \n",
    "        # if the last character of `X` and `Y` matches\n",
    "        if X[m - 1] == Y[n - 1]:\n",
    "            lookup[key] = LCSLength(X, Y, m - 1, n - 1, lookup) + 1\n",
    " \n",
    "        else:\n",
    "            # otherwise, if the last character of `X` and `Y` don't match\n",
    "            lookup[key] = max(LCSLength(X, Y, m, n - 1, lookup),LCSLength(X, Y, m - 1, n, lookup))\n",
    " \n",
    "    # return the subproblem solution from the dictionary\n",
    "    return lookup[key]\n",
    " \n",
    " \n",
    "    \n",
    "if __name__ == '__main__':\n",
    " \n",
    "    X = 'CTGATTCCGA'\n",
    "    Y = 'ATCGTCC'\n",
    " \n",
    "    # create a dictionary to store solutions to subproblems\n",
    "    lookup = {}\n",
    " \n",
    "    print('The length of the LCS is', LCSLength(X, Y, len(X), len(Y), lookup))\n",
    " \n"
   ]
  },
  {
   "cell_type": "code",
   "execution_count": 38,
   "id": "07456c17",
   "metadata": {},
   "outputs": [
    {
     "name": "stdout",
     "output_type": "stream",
     "text": [
      "The length of the LCS is 5\n"
     ]
    }
   ],
   "source": [
    "# Function to find the length of the longest common subsequence of substring\n",
    "def LCSLength(X, Y, m, n, lookup):\n",
    " \n",
    "    # return if the end of either string is reached\n",
    "    if m == 0 or n == 0:\n",
    "        return 0\n",
    " \n",
    "    # construct a unique key from dynamic elements of the input\n",
    "    key = (m, n)\n",
    " \n",
    "    # if the subproblem is seen for the first time, solve it and\n",
    "    # store its result in a dictionary\n",
    "    if key not in lookup:\n",
    " \n",
    "        # if the last character of `X` and `Y` matches\n",
    "        if X[m - 1] == Y[n - 1]:\n",
    "            lookup[key] = LCSLength(X, Y, m - 1, n - 1, lookup) + 1\n",
    " \n",
    "        else:\n",
    "            # otherwise, if the last character of `X` and `Y` don't match\n",
    "            lookup[key] = max(LCSLength(X, Y, m, n - 1, lookup),LCSLength(X, Y, m - 1, n, lookup))\n",
    " \n",
    "    # return the subproblem solution from the dictionary\n",
    "    return lookup[key]\n",
    " \n",
    " \n",
    "    \n",
    "if __name__ == '__main__':\n",
    " \n",
    "    X = 'ATATGG'\n",
    "    Y = 'ATGTGTCGAT'\n",
    " \n",
    "    # create a dictionary to store solutions to subproblems\n",
    "    lookup = {}\n",
    " \n",
    "    print('The length of the LCS is', LCSLength(X, Y, len(X), len(Y), lookup))\n",
    " \n"
   ]
  },
  {
   "cell_type": "code",
   "execution_count": 39,
   "id": "76110322",
   "metadata": {},
   "outputs": [],
   "source": [
    "# The longest common subsequence in Python\n",
    "\n",
    "\n",
    "# Function to find lcs_algo\n",
    "def lcs_algo(S1, S2, m, n):\n",
    "    L = [[0 for x in range(n+1)] for x in range(m+1)]\n",
    "\n",
    "    # Building the mtrix in bottom-up way\n",
    "    for i in range(m+1):\n",
    "        for j in range(n+1):\n",
    "            if i == 0 or j == 0:\n",
    "                L[i][j] = 0\n",
    "            elif S1[i-1] == S2[j-1]:\n",
    "                L[i][j] = L[i-1][j-1] + 1\n",
    "            else:\n",
    "                L[i][j] = max(L[i-1][j], L[i][j-1])\n",
    "\n",
    "    index = L[m][n]\n",
    "\n",
    "    lcs_algo = [\"\"] * (index+1)\n",
    "    lcs_algo[index] = \"\"\n",
    "\n",
    "    i = m\n",
    "    j = n\n",
    "    while i > 0 and j > 0:\n",
    "\n",
    "        if S1[i-1] == S2[j-1]:\n",
    "            lcs_algo[index-1] = S1[i-1]\n",
    "            i -= 1\n",
    "            j -= 1\n",
    "            index -= 1\n",
    "\n",
    "        elif L[i-1][j] > L[i][j-1]:\n",
    "            i -= 1\n",
    "        else:\n",
    "            j -= 1\n",
    "            \n",
    "    # Printing the sub sequences\n",
    "    print(\"S1 : \" + S1 + \"\\nS2 : \" + S2)\n",
    "    print(\"LCS: \" + \"\".join(lcs_algo))\n",
    "\n",
    "\n"
   ]
  },
  {
   "cell_type": "code",
   "execution_count": 40,
   "id": "4a57a922",
   "metadata": {},
   "outputs": [
    {
     "name": "stdout",
     "output_type": "stream",
     "text": [
      "S1 : ATGTTATA\n",
      "S2 : ATCGTCC\n",
      "LCS: ATGT\n"
     ]
    }
   ],
   "source": [
    "S1 = \"ATGTTATA\"\n",
    "S2 = \"ATCGTCC\"\n",
    "m = len(S1)\n",
    "n = len(S2)\n",
    "lcs_algo(S1, S2, m, n)"
   ]
  },
  {
   "cell_type": "code",
   "execution_count": 41,
   "id": "97d8cbe1",
   "metadata": {},
   "outputs": [
    {
     "name": "stdout",
     "output_type": "stream",
     "text": [
      "S1 : CTGATTCCGA\n",
      "S2 : ATGTCGA\n",
      "LCS: ATTCGA\n"
     ]
    }
   ],
   "source": [
    "S1 = \"CTGATTCCGA\"\n",
    "S2 = \"ATGTCGA\"\n",
    "m = len(S1)\n",
    "n = len(S2)\n",
    "lcs_algo(S1, S2, m, n)"
   ]
  },
  {
   "cell_type": "code",
   "execution_count": 42,
   "id": "3ed6b2a8",
   "metadata": {},
   "outputs": [
    {
     "name": "stdout",
     "output_type": "stream",
     "text": [
      "S1 : ATATGG\n",
      "S2 : ATGTGTCGAT\n",
      "LCS: ATTGG\n"
     ]
    }
   ],
   "source": [
    "S1 = \"ATATGG\"\n",
    "S2 = \"ATGTGTCGAT\"\n",
    "m = len(S1)\n",
    "n = len(S2)\n",
    "lcs_algo(S1, S2, m, n)"
   ]
  }
 ],
 "metadata": {
  "kernelspec": {
   "display_name": "Python 3",
   "language": "python",
   "name": "python3"
  },
  "language_info": {
   "codemirror_mode": {
    "name": "ipython",
    "version": 3
   },
   "file_extension": ".py",
   "mimetype": "text/x-python",
   "name": "python",
   "nbconvert_exporter": "python",
   "pygments_lexer": "ipython3",
   "version": "3.8.8"
  }
 },
 "nbformat": 4,
 "nbformat_minor": 5
}
