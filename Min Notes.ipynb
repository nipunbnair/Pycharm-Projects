{
 "cells": [
  {
   "cell_type": "code",
   "execution_count": 1,
   "id": "9316cc62",
   "metadata": {},
   "outputs": [
    {
     "name": "stdout",
     "output_type": "stream",
     "text": [
      "Following is minimal number of change for 93 : 50 20 20 2 1 "
     ]
    }
   ],
   "source": [
    "# Python3 program to find minimum \n",
    "# number of denominations\n",
    "  \n",
    "def findMin(V):\n",
    "      \n",
    "    # All denominations of Indian Currency\n",
    "    deno = [1, 2, 5, 10, 20, 50, \n",
    "            100, 500, 1000]\n",
    "    n = len(deno)\n",
    "      \n",
    "    # Initialize Result\n",
    "    ans = []\n",
    "  \n",
    "    # Traverse through all denomination\n",
    "    i = n - 1\n",
    "    while(i >= 0):\n",
    "          \n",
    "        # Find denominations\n",
    "        while (V >= deno[i]):\n",
    "            V -= deno[i]\n",
    "            ans.append(deno[i])\n",
    "  \n",
    "        i -= 1\n",
    "  \n",
    "    # Print result\n",
    "    for i in range(len(ans)):\n",
    "        print(ans[i], end = \" \")\n",
    "  \n",
    "# Driver Code\n",
    "if __name__ == '__main__':\n",
    "    n = 93\n",
    "    print(\"Following is minimal number\",\n",
    "          \"of change for\", n, \": \", end = \"\")\n",
    "    findMin(n)\n",
    "      "
   ]
  },
  {
   "cell_type": "code",
   "execution_count": null,
   "id": "94c38cd7",
   "metadata": {},
   "outputs": [],
   "source": []
  }
 ],
 "metadata": {
  "kernelspec": {
   "display_name": "Python 3",
   "language": "python",
   "name": "python3"
  },
  "language_info": {
   "codemirror_mode": {
    "name": "ipython",
    "version": 3
   },
   "file_extension": ".py",
   "mimetype": "text/x-python",
   "name": "python",
   "nbconvert_exporter": "python",
   "pygments_lexer": "ipython3",
   "version": "3.8.8"
  }
 },
 "nbformat": 4,
 "nbformat_minor": 5
}
