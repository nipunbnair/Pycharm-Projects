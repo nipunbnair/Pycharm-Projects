{
 "cells": [
  {
   "cell_type": "code",
   "execution_count": null,
   "id": "d6ba07bb",
   "metadata": {},
   "outputs": [],
   "source": [
    "a=int(input('Enter value of N: '))\n",
    "i=1\n",
    "n=0\n",
    "while(i<10):\n",
    "    i+=1\n",
    "    flag=0\n",
    "    for x in range(2,(i//2)+1):\n",
    "        if i%x==0:\n",
    "            flag=1\n",
    "            break\n",
    "        if flag==0:\n",
    "            print(i)\n",
    "            n+=1\n",
    "        if n==a:\n",
    "            break"
   ]
  },
  {
   "cell_type": "markdown",
   "id": "2f7b329f",
   "metadata": {},
   "source": [
    "## String Handling"
   ]
  },
  {
   "cell_type": "code",
   "execution_count": null,
   "id": "835c4ae6",
   "metadata": {},
   "outputs": [],
   "source": [
    "data='ASEB'\n",
    "type(data)"
   ]
  },
  {
   "cell_type": "code",
   "execution_count": null,
   "id": "ec6c8c6c",
   "metadata": {},
   "outputs": [],
   "source": [
    "data=\"ASEB\"\n",
    "type(data)"
   ]
  },
  {
   "cell_type": "code",
   "execution_count": null,
   "id": "788797c8",
   "metadata": {},
   "outputs": [],
   "source": [
    "mline='''Helo World \n",
    "We are from Amrita Vishwa Vidhyapeetham'''\n",
    "type(mline)"
   ]
  },
  {
   "cell_type": "code",
   "execution_count": null,
   "id": "4e6dcddb",
   "metadata": {},
   "outputs": [],
   "source": [
    "mline"
   ]
  },
  {
   "cell_type": "code",
   "execution_count": null,
   "id": "3d22f8c5",
   "metadata": {},
   "outputs": [],
   "source": [
    "print(mline)"
   ]
  },
  {
   "cell_type": "code",
   "execution_count": null,
   "id": "023f4e96",
   "metadata": {},
   "outputs": [],
   "source": [
    "print('Hello \\s World')"
   ]
  },
  {
   "cell_type": "code",
   "execution_count": null,
   "id": "b59c2c8f",
   "metadata": {},
   "outputs": [],
   "source": [
    "print('Hello \\r World')"
   ]
  },
  {
   "cell_type": "code",
   "execution_count": null,
   "id": "ec74f01b",
   "metadata": {},
   "outputs": [],
   "source": [
    "a=10\n",
    "b=20\n",
    "res=a+b\n",
    "print('Sum of %o and %0=%0'%(a,b,res))"
   ]
  },
  {
   "cell_type": "code",
   "execution_count": null,
   "id": "66209eb6",
   "metadata": {},
   "outputs": [],
   "source": []
  },
  {
   "cell_type": "code",
   "execution_count": null,
   "id": "fe3ea4c0",
   "metadata": {},
   "outputs": [],
   "source": []
  }
 ],
 "metadata": {
  "kernelspec": {
   "display_name": "Python 3",
   "language": "python",
   "name": "python3"
  },
  "language_info": {
   "codemirror_mode": {
    "name": "ipython",
    "version": 3
   },
   "file_extension": ".py",
   "mimetype": "text/x-python",
   "name": "python",
   "nbconvert_exporter": "python",
   "pygments_lexer": "ipython3",
   "version": "3.8.8"
  }
 },
 "nbformat": 4,
 "nbformat_minor": 5
}
