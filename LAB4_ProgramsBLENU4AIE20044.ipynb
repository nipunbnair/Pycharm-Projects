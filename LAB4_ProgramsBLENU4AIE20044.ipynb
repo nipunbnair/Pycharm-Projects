{
 "cells": [
  {
   "cell_type": "markdown",
   "id": "b27a7ca4",
   "metadata": {},
   "source": [
    "NIPUN B NAIR\n",
    "BLENU4AIE20044\n",
    "LAB-4\n"
   ]
  },
  {
   "cell_type": "code",
   "execution_count": 2,
   "id": "0891f4e6",
   "metadata": {},
   "outputs": [
    {
     "name": "stdout",
     "output_type": "stream",
     "text": [
      "The missing Masses [129, 242, 242]\n",
      "The false mass [99, 299]\n"
     ]
    }
   ],
   "source": [
    "theoretical=[0,113,114,128,129,227,242,242,257,355,356,370,371,484]\n",
    "experimental=[0,99,113,114,128,227, 257 ,299,355,356,370,371,484]\n",
    "false_mass=[]\n",
    "missing_mass=[]\n",
    "for x in theoretical:\n",
    "    if x not in experimental:\n",
    "        missing_mass.append(x)\n",
    "\n",
    "print(\"The missing Masses\",missing_mass)\n",
    "for y in experimental:\n",
    "    if y not in theoretical:\n",
    "        false_mass.append(y)\n",
    "print(\"The false mass\",false_mass)"
   ]
  },
  {
   "cell_type": "code",
   "execution_count": null,
   "id": "65de6f97",
   "metadata": {},
   "outputs": [],
   "source": []
  }
 ],
 "metadata": {
  "kernelspec": {
   "display_name": "Python 3",
   "language": "python",
   "name": "python3"
  },
  "language_info": {
   "codemirror_mode": {
    "name": "ipython",
    "version": 3
   },
   "file_extension": ".py",
   "mimetype": "text/x-python",
   "name": "python",
   "nbconvert_exporter": "python",
   "pygments_lexer": "ipython3",
   "version": "3.8.8"
  }
 },
 "nbformat": 4,
 "nbformat_minor": 5
}
