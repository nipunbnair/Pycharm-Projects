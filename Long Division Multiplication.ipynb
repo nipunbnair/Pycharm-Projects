{
 "cells": [
  {
   "cell_type": "code",
   "execution_count": 4,
   "id": "84ddb2e0",
   "metadata": {},
   "outputs": [
    {
     "name": "stdout",
     "output_type": "stream",
     "text": [
      "The number of digits in the number are: 5\n"
     ]
    }
   ],
   "source": [
    "def numbercount(n):\n",
    "    count=0\n",
    "    while(n>0):\n",
    "        count=count+1\n",
    "        n=n//10\n",
    "    return count\n",
    "print(\"The number of digits in the number are:\",numbercount(10002))"
   ]
  },
  {
   "cell_type": "code",
   "execution_count": 5,
   "id": "5350e672",
   "metadata": {},
   "outputs": [
    {
     "data": {
      "text/plain": [
       "5"
      ]
     },
     "execution_count": 5,
     "metadata": {},
     "output_type": "execute_result"
    }
   ],
   "source": [
    "numbercount(10002)"
   ]
  },
  {
   "cell_type": "code",
   "execution_count": 6,
   "id": "c10d27cd",
   "metadata": {},
   "outputs": [],
   "source": [
    "def numbersplit(n1):\n",
    "    n=numbercount(n1)\n",
    "    x=n//2\n",
    "    Ih=int(n1/(10**x))\n",
    "    Il=n1%(10**x)\n",
    "    return Ih,Il,x"
   ]
  },
  {
   "cell_type": "code",
   "execution_count": 7,
   "id": "a2192f7d",
   "metadata": {},
   "outputs": [],
   "source": [
    "Ih,Il,x=numbersplit(1981)"
   ]
  },
  {
   "cell_type": "code",
   "execution_count": 8,
   "id": "3b950542",
   "metadata": {},
   "outputs": [
    {
     "data": {
      "text/plain": [
       "19"
      ]
     },
     "execution_count": 8,
     "metadata": {},
     "output_type": "execute_result"
    }
   ],
   "source": [
    "Ih"
   ]
  },
  {
   "cell_type": "code",
   "execution_count": 9,
   "id": "2630b3a1",
   "metadata": {},
   "outputs": [
    {
     "data": {
      "text/plain": [
       "81"
      ]
     },
     "execution_count": 9,
     "metadata": {},
     "output_type": "execute_result"
    }
   ],
   "source": [
    "Il"
   ]
  },
  {
   "cell_type": "code",
   "execution_count": 13,
   "id": "b9f7e4e2",
   "metadata": {},
   "outputs": [
    {
     "data": {
      "text/plain": [
       "2"
      ]
     },
     "execution_count": 13,
     "metadata": {},
     "output_type": "execute_result"
    }
   ],
   "source": [
    "x"
   ]
  },
  {
   "cell_type": "code",
   "execution_count": 14,
   "id": "b88434f4",
   "metadata": {},
   "outputs": [],
   "source": [
    "def longintmult(n1,n2):\n",
    "    Ih,Il,xI=numbersplit(n1)\n",
    "    Jh,Jl,xJ=numbersplit(n2)\n",
    "    while numbercount(xI>=1 and xJ>=1):\n",
    "        prod=(longintmult(Ih,Jh)*10**(2*xI))+10**(xI)*(longintmult(abs(Ih-Il),abs(Jl-Jh))+longintmult(Ih,Jh)+longintmult(Il,Jl))+longintmult(Il,Jl)\n",
    "         \n",
    "    prod=((Ih*Jh)*10**(2*xI))+10**(xI)*((abs(Ih-Il)*abs(Jl-Jh)+Ih*Jh+Il*Jl))+Il*Jl\n",
    "    return prod"
   ]
  },
  {
   "cell_type": "code",
   "execution_count": null,
   "id": "b5d5c70a",
   "metadata": {},
   "outputs": [],
   "source": [
    "longintmult(10,34)"
   ]
  },
  {
   "cell_type": "code",
   "execution_count": null,
   "id": "0e2704fe",
   "metadata": {},
   "outputs": [],
   "source": []
  }
 ],
 "metadata": {
  "kernelspec": {
   "display_name": "Python 3",
   "language": "python",
   "name": "python3"
  },
  "language_info": {
   "codemirror_mode": {
    "name": "ipython",
    "version": 3
   },
   "file_extension": ".py",
   "mimetype": "text/x-python",
   "name": "python",
   "nbconvert_exporter": "python",
   "pygments_lexer": "ipython3",
   "version": "3.8.8"
  }
 },
 "nbformat": 4,
 "nbformat_minor": 5
}
