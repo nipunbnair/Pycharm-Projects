{
 "cells": [
  {
   "cell_type": "code",
   "execution_count": 14,
   "id": "d49c37fa",
   "metadata": {},
   "outputs": [
    {
     "name": "stdout",
     "output_type": "stream",
     "text": [
      "The most optimal solution is P1 does J 2 P2 does J 3 P3 does J 1\n",
      "Total time taken is  10\n"
     ]
    }
   ],
   "source": [
    "import numpy as np\n",
    "P1=[9,2,7]\n",
    "P2=[6,4,3]\n",
    "P3=[5,8,7]\n",
    "n = 3\n",
    "L = [[[0 for k in range(n)] for j in range(n)] for i in range(n)]\n",
    "\n",
    "min=100\n",
    "min_i=10\n",
    "min_j=10\n",
    "min_k=10\n",
    "for i in range(0,3):\n",
    "    for j in range(0,3):\n",
    "        for k in range(0,3):\n",
    "            if (not(i==j)and not(i==k)and not(j==k)):\n",
    "                L[i][j][k]=P1[i]+P2[j]+P3[k]\n",
    "                if min>L[i][j][k]:\n",
    "                    min=L[i][j][k]\n",
    "                    min_i=i\n",
    "                    min_j=j\n",
    "                    min_k=k\n",
    "            \n",
    "\n",
    "print(\"The most optimal solution is P1 does J\",min_i+1,\"P2 does J\",min_j+1,\"P3 does J\",min_k+1)\n",
    "print(\"Total time taken is \",L[min_i][min_j][min_k])\n"
   ]
  },
  {
   "cell_type": "code",
   "execution_count": null,
   "id": "c1b096a6",
   "metadata": {},
   "outputs": [],
   "source": []
  }
 ],
 "metadata": {
  "kernelspec": {
   "display_name": "Python 3",
   "language": "python",
   "name": "python3"
  },
  "language_info": {
   "codemirror_mode": {
    "name": "ipython",
    "version": 3
   },
   "file_extension": ".py",
   "mimetype": "text/x-python",
   "name": "python",
   "nbconvert_exporter": "python",
   "pygments_lexer": "ipython3",
   "version": "3.8.8"
  }
 },
 "nbformat": 4,
 "nbformat_minor": 5
}
