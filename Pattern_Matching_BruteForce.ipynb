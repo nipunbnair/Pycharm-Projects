{
 "cells": [
  {
   "cell_type": "code",
   "execution_count": 4,
   "id": "bda9eded",
   "metadata": {},
   "outputs": [
    {
     "name": "stdout",
     "output_type": "stream",
     "text": [
      "Pattern found at 7\n"
     ]
    }
   ],
   "source": [
    "T=\"NOBODY NOTICED\"\n",
    "P=\"NOT\"\n",
    "m=len(P)\n",
    "n=len(T)\n",
    "for i in range(0,n-m):\n",
    "    j=0\n",
    "    while j<m:\n",
    "        if P[j]==T[i+j]:\n",
    "            j=j+1\n",
    "            \n",
    "        else: \n",
    "            break    \n",
    "    if j==m:\n",
    "           print(\"Pattern found at\",i)\n",
    "            "
   ]
  },
  {
   "cell_type": "code",
   "execution_count": null,
   "id": "89afb5bc",
   "metadata": {},
   "outputs": [],
   "source": []
  },
  {
   "cell_type": "code",
   "execution_count": null,
   "id": "22df8b38",
   "metadata": {},
   "outputs": [],
   "source": []
  }
 ],
 "metadata": {
  "kernelspec": {
   "display_name": "Python 3",
   "language": "python",
   "name": "python3"
  },
  "language_info": {
   "codemirror_mode": {
    "name": "ipython",
    "version": 3
   },
   "file_extension": ".py",
   "mimetype": "text/x-python",
   "name": "python",
   "nbconvert_exporter": "python",
   "pygments_lexer": "ipython3",
   "version": "3.8.8"
  }
 },
 "nbformat": 4,
 "nbformat_minor": 5
}
