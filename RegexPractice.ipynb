{
 "cells": [
  {
   "cell_type": "code",
   "execution_count": 2,
   "id": "13c56b06",
   "metadata": {},
   "outputs": [
    {
     "name": "stdout",
     "output_type": "stream",
     "text": [
      "Sachin\n",
      "Tendulkar\n"
     ]
    }
   ],
   "source": [
    "import re\n",
    "nameregx=re.compile(r'First Name:(.*) Last Name:(.*)')\n",
    "mo=nameregx.search('First Name:Sachin Last Name:Tendulkar')\n",
    "print(mo.group(1))\n",
    "print(mo.group(2))\n"
   ]
  },
  {
   "cell_type": "code",
   "execution_count": 3,
   "id": "8356d1a9",
   "metadata": {},
   "outputs": [
    {
     "name": "stdout",
     "output_type": "stream",
     "text": [
      "Hello World.\n"
     ]
    }
   ],
   "source": [
    "nonlrex=re.compile(r'.*')\n",
    "go=nonlrex.search('Hello World.\\n We are the World. \\n We are the Future.')\n",
    "print(go.group())"
   ]
  },
  {
   "cell_type": "code",
   "execution_count": 4,
   "id": "9937f45b",
   "metadata": {},
   "outputs": [
    {
     "name": "stdout",
     "output_type": "stream",
     "text": [
      "Hello World.\n",
      " We are the World. \n",
      " We are the Future.\n"
     ]
    }
   ],
   "source": [
    "nonlrex=re.compile(r'.*',re.DOTALL)\n",
    "go=nonlrex.search('Hello World.\\n We are the World. \\n We are the Future.')\n",
    "print(go.group())"
   ]
  },
  {
   "cell_type": "markdown",
   "id": "779fdf73",
   "metadata": {},
   "source": [
    "''' . represents single occurence of any new character except new line\n",
    " ? represents preceding char is optional\n",
    " ^ match start from begining of string\n",
    " $ match at end of string \n",
    " [] one out of all chars in bracket match\n",
    " [^..] matches any one char except those not in bracket\n",
    " \\d match a digit\n",
    " \\w match alphanumerical character\n",
    " \\s matches whitespace char\n",
    " * preceding char 0 or more time appear\n",
    " + preceding char repeated atleast once\n",
    " {} preceding character repeated as many times as mentioned\n",
    " \\b boundaries\n",
    " \\. string values\n",
    " '''\n",
    " "
   ]
  },
  {
   "cell_type": "code",
   "execution_count": 8,
   "id": "80135c71",
   "metadata": {},
   "outputs": [
    {
     "name": "stdout",
     "output_type": "stream",
     "text": [
      "['Abcd', 'computer', 'Python']\n",
      "['4', '765', '687']\n",
      "['Abcd', ' 4', ' computer', ' 765', ' Python', ' 687']\n"
     ]
    }
   ],
   "source": [
    "str=\"Abcd 4 computer 765 Python 687\"\n",
    "pattern=r'[a-zA-Z]+'\n",
    "p1=r'[0-9]+'\n",
    "p2=r'.[^ ]+'\n",
    "match=re.findall(pattern,str)\n",
    "print(match)\n",
    "match=re.findall(p1,str)\n",
    "print(match)\n",
    "match=re.findall(p2,str)\n",
    "print(match)"
   ]
  },
  {
   "cell_type": "code",
   "execution_count": 13,
   "id": "439661a1",
   "metadata": {},
   "outputs": [
    {
     "name": "stdout",
     "output_type": "stream",
     "text": [
      "['apple', ' \\nbanana\\norange', ' \\npeach', ' \\navacado', ' \\ncherries']\n",
      "['cherries']\n",
      "['apple', 'orange', 'avacado']\n"
     ]
    }
   ],
   "source": [
    "str='''\n",
    "apple \n",
    "banana\n",
    "orange \n",
    "peach \n",
    "avacado \n",
    "cherries'''\n",
    "p2=r'.[^ ]+'\n",
    "p3=r'.*s'\n",
    "p4=r'\\b[aeiou].+\\b'\n",
    "match=re.findall(p2,str)\n",
    "print(match)\n",
    "match=re.findall(p3,str)\n",
    "print(match)\n",
    "match=re.findall(p4,str)\n",
    "print(match)"
   ]
  },
  {
   "cell_type": "code",
   "execution_count": 18,
   "id": "462b7f10",
   "metadata": {},
   "outputs": [
    {
     "name": "stdout",
     "output_type": "stream",
     "text": [
      "['nipun@gmail.com', 'ghjjk@hotmail.com']\n",
      "(1, 16)\n",
      "(25, 42)\n"
     ]
    }
   ],
   "source": [
    "str='''\n",
    "nipun@gmail.com\n",
    "hhj/.00\n",
    "ghjjk@hotmail.com\n",
    "jjghhyig@aol\n",
    "'''\n",
    "pattern=r'[a-z]+[0-9]*[a-z]*@[a-z]+\\.com'\n",
    "match=re.findall(pattern,str)\n",
    "print(match)\n",
    "match=re.finditer(pattern,str)\n",
    "for m in match:\n",
    "    print(m.span())"
   ]
  },
  {
   "cell_type": "code",
   "execution_count": 19,
   "id": "bc36d524",
   "metadata": {},
   "outputs": [
    {
     "name": "stdout",
     "output_type": "stream",
     "text": [
      "\n",
      "\n",
      "\n",
      "\n",
      "566\n",
      "900\n",
      "\n"
     ]
    }
   ],
   "source": [
    "str='''\n",
    "Sam\n",
    "Alexa\n",
    "John\n",
    "566\n",
    "900\n",
    "'''\n",
    "pattern=r'\\b[A-Z][a-z]+\\b'\n",
    "nstr=re.sub(pattern,\"\",str)\n",
    "print(nstr)\n"
   ]
  },
  {
   "cell_type": "code",
   "execution_count": null,
   "id": "818ded0e",
   "metadata": {},
   "outputs": [],
   "source": []
  }
 ],
 "metadata": {
  "kernelspec": {
   "display_name": "Python 3",
   "language": "python",
   "name": "python3"
  },
  "language_info": {
   "codemirror_mode": {
    "name": "ipython",
    "version": 3
   },
   "file_extension": ".py",
   "mimetype": "text/x-python",
   "name": "python",
   "nbconvert_exporter": "python",
   "pygments_lexer": "ipython3",
   "version": "3.8.8"
  }
 },
 "nbformat": 4,
 "nbformat_minor": 5
}
