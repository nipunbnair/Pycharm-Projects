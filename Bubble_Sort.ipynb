{
 "cells": [
  {
   "cell_type": "code",
   "execution_count": 29,
   "id": "8c15b657",
   "metadata": {},
   "outputs": [
    {
     "name": "stdout",
     "output_type": "stream",
     "text": [
      "Unsorted list is,\n",
      "[40, 10, 20, 900, 70, 30, 25, 100]\n",
      "Sorted Array is, \n",
      "[10, 20, 25, 30, 40, 70, 100, 900]\n",
      "The Run time is 0.0010089874267578125 seconds\n"
     ]
    }
   ],
   "source": [
    "import time\n",
    "\n",
    "def bubblesort(elements):\n",
    "\n",
    "    for i in range(0,len(elements)-1):\n",
    "        for j in range(0,len(elements)-i-1):\n",
    "            if elements[j] > elements[j + 1]:\n",
    "            # swapping data if the element is less than next element in the array\n",
    "                elements[j], elements[j + 1] = elements[j + 1], elements[j]\n",
    "\n",
    "            \n",
    "start=time.time();            \n",
    "# average case \n",
    "elements = [40,10,20,900,70,30,25,100]\n",
    "print(\"Unsorted list is,\")\n",
    "print( elements)\n",
    "bubblesort(elements)\n",
    "print(\"Sorted Array is, \")\n",
    "print(elements)\n",
    "end=time.time()\n",
    "print(f\"The Run time is {end-start} seconds\")"
   ]
  },
  {
   "cell_type": "code",
   "execution_count": 30,
   "id": "6290cf9d",
   "metadata": {},
   "outputs": [
    {
     "name": "stdout",
     "output_type": "stream",
     "text": [
      "Unsorted list is,\n",
      "[10, 20, 25, 30, 40, 70, 100, 900]\n",
      "Sorted Array is, \n",
      "[10, 20, 25, 30, 40, 70, 100, 900]\n",
      "The Run time is 0.0010135173797607422 seconds\n"
     ]
    }
   ],
   "source": [
    "import time\n",
    "start=time.time();\n",
    "# best case\n",
    "elements = [40,10,20,900,70,30,25,100]\n",
    "elements.sort()\n",
    "print(\"Unsorted list is,\")\n",
    "print( elements)\n",
    "bubblesort(elements)\n",
    "print(\"Sorted Array is, \")\n",
    "print(elements)\n",
    "end=time.time()\n",
    "print(f\"The Run time is {end-start} seconds\")"
   ]
  },
  {
   "cell_type": "code",
   "execution_count": 31,
   "id": "e2fa91d0",
   "metadata": {},
   "outputs": [
    {
     "name": "stdout",
     "output_type": "stream",
     "text": [
      "Unsorted list is,\n",
      "[900, 100, 70, 40, 30, 25, 20, 10]\n",
      "Sorted Array is, \n",
      "[10, 20, 25, 30, 40, 70, 100, 900]\n",
      "The Run time is 0.0 seconds\n"
     ]
    }
   ],
   "source": [
    "import time\n",
    "start=time.time();\n",
    "# worst time\n",
    "elements = [40,10,20,900,70,30,25,100]\n",
    "elements.sort(reverse=True)\n",
    "print(\"Unsorted list is,\")\n",
    "print( elements)\n",
    "bubblesort(elements)\n",
    "print(\"Sorted Array is, \")\n",
    "print(elements)\n",
    "end=time.time()\n",
    "print(f\"The Run time is {end-start} seconds\")"
   ]
  },
  {
   "cell_type": "code",
   "execution_count": 41,
   "id": "98633269",
   "metadata": {},
   "outputs": [
    {
     "data": {
      "image/png": "[encoded data removed]",
      "text/plain": [
       "<Figure size 432x288 with 1 Axes>"
      ]
     },
     "metadata": {
      "needs_background": "light"
     },
     "output_type": "display_data"
    }
   ],
   "source": [
    "import matplotlib.pyplot as plt\n",
    "left = [1, 2, 3]\n",
    "# heights of bars\n",
    "height = [0.0109,0.001,0.0109]\n",
    "# labels for bars\n",
    "tick_label = ['average time', 'best case', 'worst case']\n",
    "# plotting a bar chart\n",
    "plt.bar(left, height, tick_label = tick_label,width = 0.8, color = ['red', 'green', 'blue'])\n",
    "# naming the x-axis\n",
    "plt.xlabel('x - axis')\n",
    "# naming the y-axis\n",
    "plt.ylabel('y - axis')\n",
    "# plot title\n",
    "plt.title('My bar chart!')\n",
    "# function to show the plot\n",
    "plt.show()"
   ]
  },
  {
   "cell_type": "code",
   "execution_count": null,
   "id": "a5726538",
   "metadata": {},
   "outputs": [],
   "source": []
  }
 ],
 "metadata": {
  "kernelspec": {
   "display_name": "Python 3",
   "language": "python",
   "name": "python3"
  },
  "language_info": {
   "codemirror_mode": {
    "name": "ipython",
    "version": 3
   },
   "file_extension": ".py",
   "mimetype": "text/x-python",
   "name": "python",
   "nbconvert_exporter": "python",
   "pygments_lexer": "ipython3",
   "version": "3.8.8"
  }
 },
 "nbformat": 4,
 "nbformat_minor": 5
}
