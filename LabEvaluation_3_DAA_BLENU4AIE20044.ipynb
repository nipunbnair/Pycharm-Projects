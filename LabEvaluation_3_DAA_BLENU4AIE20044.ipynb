{
 "cells": [
  {
   "cell_type": "code",
   "execution_count": 1,
   "id": "7332ff85",
   "metadata": {},
   "outputs": [],
   "source": [
    "# Question \n",
    "# Input a string and print all sequences using backtracking"
   ]
  },
  {
   "cell_type": "code",
   "execution_count": 4,
   "id": "2f4d4b7b",
   "metadata": {},
   "outputs": [
    {
     "name": "stdout",
     "output_type": "stream",
     "text": [
      "Enter a string  milk\n",
      "milk\n",
      "mikl\n",
      "mlik\n",
      "mlki\n",
      "mkli\n",
      "mkil\n",
      "imlk\n",
      "imkl\n",
      "ilmk\n",
      "ilkm\n",
      "iklm\n",
      "ikml\n",
      "limk\n",
      "likm\n",
      "lmik\n",
      "lmki\n",
      "lkmi\n",
      "lkim\n",
      "kilm\n",
      "kiml\n",
      "klim\n",
      "klmi\n",
      "kmli\n",
      "kmil\n"
     ]
    }
   ],
   "source": [
    "def toString(List):\n",
    "    return ''.join(List)\n",
    "\n",
    "def permute(str, l, r):\n",
    "    if l==r:\n",
    "        print (toString(str))\n",
    "    else:\n",
    "        for i in range(l,r):\n",
    "            str[l], str[i] = str[i], str[l]\n",
    "            permute(str, l+1, r)\n",
    "            str[l], str[i] = str[i], str[l] # backtrack\n",
    "\n",
    "string = input(\"Enter a string  \")\n",
    "n = len(string)\n",
    "a = list(string)\n",
    "permute(a, 0, n)\n",
    "\n",
    "\n"
   ]
  },
  {
   "cell_type": "code",
   "execution_count": null,
   "id": "e2001aab",
   "metadata": {},
   "outputs": [],
   "source": []
  }
 ],
 "metadata": {
  "kernelspec": {
   "display_name": "Python 3",
   "language": "python",
   "name": "python3"
  },
  "language_info": {
   "codemirror_mode": {
    "name": "ipython",
    "version": 3
   },
   "file_extension": ".py",
   "mimetype": "text/x-python",
   "name": "python",
   "nbconvert_exporter": "python",
   "pygments_lexer": "ipython3",
   "version": "3.8.8"
  }
 },
 "nbformat": 4,
 "nbformat_minor": 5
}
