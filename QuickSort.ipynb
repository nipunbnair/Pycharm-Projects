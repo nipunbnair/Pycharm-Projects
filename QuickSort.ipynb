{
 "cells": [
  {
   "cell_type": "code",
   "execution_count": 18,
   "id": "85c0c4a9",
   "metadata": {},
   "outputs": [],
   "source": [
    "import time\n",
    "def partition(arr, low, high):\n",
    "    start = low # index of smaller element\n",
    "    pivot = arr[low] # pivot\n",
    "    end=high\n",
    "\n",
    "    while start<end:\n",
    "        while (start < end) and (arr[start]<=pivot):\n",
    "              start = start+1\n",
    "        while arr[end]>pivot:\n",
    "            end = end-1\n",
    "        if start<end:\n",
    "             arr[start], arr[end] = arr[end], arr[start]\n",
    "\n",
    "    arr[low], arr[end] = arr[end], arr[low]\n",
    "    return end\n",
    "\n",
    "def quickSort(arr, low, high):\n",
    "    if len(arr) == 1:\n",
    "        return arr\n",
    "    if low < high:\n",
    "\n",
    "        # pi is partitioning index, arr[p] is now\n",
    "        # at right place\n",
    "        pi = partition(arr, low, high)\n",
    "\n",
    "        # Separately sort elements before\n",
    "        # partition and after partition\n",
    "        quickSort(arr, low, pi-1)\n",
    "        quickSort(arr, pi+1, high)\n",
    "\n",
    "\n",
    "\n",
    "\n"
   ]
  },
  {
   "cell_type": "code",
   "execution_count": 19,
   "id": "898c3351",
   "metadata": {},
   "outputs": [
    {
     "name": "stdout",
     "output_type": "stream",
     "text": [
      "Sorted array is:\n",
      "1\n",
      "4\n",
      "5\n",
      "7\n",
      "8\n",
      "9\n",
      "The Run time is 0.0 seconds\n"
     ]
    }
   ],
   "source": [
    "start=time.time(); \n",
    "arr = [4, 7, 8, 9, 1, 5]\n",
    "n = len(arr)\n",
    "quickSort(arr, 0, n-1)\n",
    "print(\"Sorted array is:\")\n",
    "for i in range(n):\n",
    "    print(\"%d\" % arr[i])\n",
    "\n",
    "end=time.time()\n",
    "print(f\"The Run time is {end-start} seconds\")"
   ]
  },
  {
   "cell_type": "code",
   "execution_count": 20,
   "id": "73623d9e",
   "metadata": {},
   "outputs": [
    {
     "name": "stdout",
     "output_type": "stream",
     "text": [
      "Unsorted list is,\n",
      "[10, 20, 25, 30, 40, 70, 100, 900]\n",
      "Sorted Array is, \n",
      "[10, 20, 25, 30, 40, 70, 100, 900]\n",
      "The Run time is 0.002130270004272461 seconds\n"
     ]
    }
   ],
   "source": [
    "import time\n",
    "start=time.time();\n",
    "# best case\n",
    "elements = [40,10,20,900,70,30,25,100]\n",
    "elements.sort()\n",
    "print(\"Unsorted list is,\")\n",
    "print( elements)\n",
    "n=len(elements)\n",
    "quickSort(elements,0,n-1)\n",
    "print(\"Sorted Array is, \")\n",
    "print(elements)\n",
    "end=time.time()\n",
    "print(f\"The Run time is {end-start} seconds\")"
   ]
  },
  {
   "cell_type": "code",
   "execution_count": 16,
   "id": "9b2fcc49",
   "metadata": {},
   "outputs": [
    {
     "name": "stdout",
     "output_type": "stream",
     "text": [
      "Unsorted list is,\n",
      "[900, 100, 70, 40, 30, 25, 20, 10]\n",
      "Sorted Array is, \n",
      "[10, 20, 25, 30, 40, 70, 100, 900]\n",
      "The Run time is 0.002230405807495117 seconds\n"
     ]
    }
   ],
   "source": [
    "import time\n",
    "start=time.time();\n",
    "# worst time\n",
    "elements = [40,10,20,900,70,30,25,100]\n",
    "elements.sort(reverse=True)\n",
    "print(\"Unsorted list is,\")\n",
    "print( elements)\n",
    "n=len(elements)\n",
    "quickSort(elements,0,n-1)\n",
    "print(\"Sorted Array is, \")\n",
    "print(elements)\n",
    "end=time.time()\n",
    "print(f\"The Run time is {end-start} seconds\")"
   ]
  },
  {
   "cell_type": "code",
   "execution_count": 21,
   "id": "bb97a8a9",
   "metadata": {},
   "outputs": [
    {
     "data": {
      "image/png": "[encoded data removed]",
      "text/plain": [
       "<Figure size 432x288 with 1 Axes>"
      ]
     },
     "metadata": {
      "needs_background": "light"
     },
     "output_type": "display_data"
    }
   ],
   "source": [
    "import matplotlib.pyplot as plt\n",
    "left = [1, 2, 3]\n",
    "# heights of bars\n",
    "height = [0.002130270004272461,0.002130270004272461,0.002230405807495117]\n",
    "# labels for bars\n",
    "tick_label = ['average time', 'best case', 'worst case']\n",
    "# plotting a bar chart\n",
    "plt.bar(left, height, tick_label = tick_label,width = 0.8, color = ['red', 'green', 'blue'])\n",
    "# naming the x-axis\n",
    "plt.xlabel('x - axis')\n",
    "# naming the y-axis\n",
    "plt.ylabel('y - axis')\n",
    "# plot title\n",
    "plt.title('My bar chart!')\n",
    "# function to show the plot\n",
    "plt.show()"
   ]
  },
  {
   "cell_type": "code",
   "execution_count": null,
   "id": "8954471b",
   "metadata": {},
   "outputs": [],
   "source": []
  }
 ],
 "metadata": {
  "kernelspec": {
   "display_name": "Python 3",
   "language": "python",
   "name": "python3"
  },
  "language_info": {
   "codemirror_mode": {
    "name": "ipython",
    "version": 3
   },
   "file_extension": ".py",
   "mimetype": "text/x-python",
   "name": "python",
   "nbconvert_exporter": "python",
   "pygments_lexer": "ipython3",
   "version": "3.8.8"
  }
 },
 "nbformat": 4,
 "nbformat_minor": 5
}
