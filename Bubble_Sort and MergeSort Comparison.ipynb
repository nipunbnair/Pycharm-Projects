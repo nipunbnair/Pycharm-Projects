{
 "cells": [
  {
   "cell_type": "code",
   "execution_count": 4,
   "id": "e98a2d0e",
   "metadata": {},
   "outputs": [
    {
     "name": "stdout",
     "output_type": "stream",
     "text": [
      "Unsorted list is,\n",
      "[40, 10, 20, 900, 70, 30, 25, 100]\n",
      "Sorted Array is, \n",
      "[10, 20, 25, 30, 40, 70, 100, 900]\n",
      "The Run time is 0.00506138801574707 seconds\n"
     ]
    }
   ],
   "source": [
    "import time\n",
    "\n",
    "def bubblesort(elements):\n",
    "\n",
    "    for i in range(0,len(elements)-1):\n",
    "        for j in range(0,len(elements)-i-1):\n",
    "            if elements[j] > elements[j + 1]:\n",
    "            # swapping data if the element is less than next element in the array\n",
    "                elements[j], elements[j + 1] = elements[j + 1], elements[j]\n",
    "\n",
    "            \n",
    "start=time.time();            \n",
    "# average case \n",
    "elements = [40,10,20,900,70,30,25,100]\n",
    "print(\"Unsorted list is,\")\n",
    "print( elements)\n",
    "bubblesort(elements)\n",
    "print(\"Sorted Array is, \")\n",
    "print(elements)\n",
    "end=time.time()\n",
    "print(f\"The Run time is {end-start} seconds\")\n",
    "k=end-start\n"
   ]
  },
  {
   "cell_type": "code",
   "execution_count": 5,
   "id": "d0ba8fc2",
   "metadata": {},
   "outputs": [],
   "source": [
    "def merge(arr, l, m, r):\n",
    "    n1 = m - l + 1\n",
    "    n2 = r - m\n",
    " \n",
    "    # create temp arrays\n",
    "    L = [0] * (n1)\n",
    "    R = [0] * (n2)\n",
    " \n",
    "    # Copy data to temp arrays L[] and R[]\n",
    "    for i in range(0, n1):\n",
    "        L[i] = arr[l + i]\n",
    " \n",
    "    for j in range(0, n2):\n",
    "        R[j] = arr[m + 1 + j]\n",
    " \n",
    "    # Merge the temp arrays back into arr[l..r]\n",
    "    i = 0     # Initial index of first subarray\n",
    "    j = 0     # Initial index of second subarray\n",
    "    k = l     # Initial index of merged subarray\n",
    " \n",
    "    while i < n1 and j < n2:\n",
    "        if L[i] <= R[j]:\n",
    "            arr[k] = L[i]\n",
    "            i += 1\n",
    "        else:\n",
    "            arr[k] = R[j]\n",
    "            j += 1\n",
    "        k += 1\n",
    " \n",
    "    # Copy the remaining elements of L[], if there\n",
    "    # are any\n",
    "    while i < n1:\n",
    "        arr[k] = L[i]\n",
    "        i += 1\n",
    "        k += 1\n",
    " \n",
    "    # Copy the remaining elements of R[], if there\n",
    "    # are any\n",
    "    while j < n2:\n",
    "        arr[k] = R[j]\n",
    "        j += 1\n",
    "        k += 1\n",
    " \n",
    " # l is for left index and r is right index of the\n",
    " # sub-array of arr to be sorted\n",
    " \n",
    " "
   ]
  },
  {
   "cell_type": "code",
   "execution_count": 9,
   "id": "4e9b2dd8",
   "metadata": {},
   "outputs": [
    {
     "name": "stdout",
     "output_type": "stream",
     "text": [
      "Given array is\n",
      "12 11 13 5 6 7 \n",
      "\n",
      "Sorted array is\n",
      "5 6 7 11 12 13 The Run time is 0.001020669937133789 seconds\n"
     ]
    }
   ],
   "source": [
    "def mergeSort(arr, l, r):\n",
    "    if l < r:\n",
    " \n",
    "        # Same as (l+r)//2, but avoids overflow for\n",
    "        # large l and h\n",
    "        m = l+(r-l)//2\n",
    " \n",
    "        # Sort first and second halves\n",
    "        mergeSort(arr, l, m)\n",
    "        mergeSort(arr, m+1, r)\n",
    "        merge(arr, l, m, r)\n",
    " \n",
    "\n",
    " \n",
    "start1=time.time();  \n",
    "# Driver code to test above\n",
    "arr = [12, 11, 13, 5, 6, 7]\n",
    "n = len(arr)\n",
    "print(\"Given array is\")\n",
    "for i in range(n):\n",
    "    print(\"%d\" % arr[i],end=\" \")\n",
    "mergeSort(arr, 0, n-1)\n",
    "print(\"\\n\\nSorted array is\")\n",
    "for i in range(n):\n",
    "    print(\"%d\" % arr[i],end=\" \")\n",
    "    \n",
    "end1=time.time()    \n",
    "print(f\"The Run time is {end1-start1} seconds\")\n",
    "k1=end1-start1\n"
   ]
  },
  {
   "cell_type": "code",
   "execution_count": 10,
   "id": "843a78ce",
   "metadata": {},
   "outputs": [
    {
     "data": {
      "image/png": "[encoded data removed]",
      "text/plain": [
       "<Figure size 432x288 with 1 Axes>"
      ]
     },
     "metadata": {
      "needs_background": "light"
     },
     "output_type": "display_data"
    }
   ],
   "source": [
    "import matplotlib.pyplot as plt\n",
    "left = [1, 2]\n",
    "# heights of bars\n",
    "height = [k,k1]\n",
    "# labels for bars\n",
    "tick_label = ['bubble sort', 'merge sort']\n",
    "# plotting a bar chart\n",
    "plt.bar(left, height, tick_label = tick_label,width = 0.8, color = ['red', 'blue'])\n",
    "# naming the x-axis\n",
    "plt.xlabel('x - axis')\n",
    "# naming the y-axis\n",
    "plt.ylabel('y - axis')\n",
    "# plot title\n",
    "plt.title('My bar chart!')\n",
    "# function to show the plot\n",
    "plt.show()"
   ]
  },
  {
   "cell_type": "code",
   "execution_count": null,
   "id": "53e4bd09",
   "metadata": {},
   "outputs": [],
   "source": []
  }
 ],
 "metadata": {
  "kernelspec": {
   "display_name": "Python 3",
   "language": "python",
   "name": "python3"
  },
  "language_info": {
   "codemirror_mode": {
    "name": "ipython",
    "version": 3
   },
   "file_extension": ".py",
   "mimetype": "text/x-python",
   "name": "python",
   "nbconvert_exporter": "python",
   "pygments_lexer": "ipython3",
   "version": "3.8.8"
  }
 },
 "nbformat": 4,
 "nbformat_minor": 5
}
