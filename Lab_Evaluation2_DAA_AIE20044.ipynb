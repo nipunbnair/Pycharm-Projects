{
 "cells": [
  {
   "cell_type": "code",
   "execution_count": 16,
   "id": "a8ed01ca",
   "metadata": {},
   "outputs": [
    {
     "name": "stdout",
     "output_type": "stream",
     "text": [
      "Maximum number of jobs that can be done by the computer = 4\n"
     ]
    }
   ],
   "source": [
    "class ItemValue:\n",
    "    def __init__(self, wt, val, ind):\n",
    "        self.wt = wt\n",
    "        self.val = val\n",
    "        self.ind = ind\n",
    "        self.cost = val // wt\n",
    " \n",
    "    def __lt__(self, other):\n",
    "        return self.cost < other.cost\n",
    " \n",
    "\n",
    " \n",
    " \n",
    "class KnapSack:\n",
    " \n",
    "   \n",
    "    def getMaxValue(wt, val, capacity):\n",
    "        iVal = []\n",
    "        for i in range(len(wt)):\n",
    "            iVal.append(ItemValue(wt[i], val[i], i))\n",
    " \n",
    "        # sorting items by value\n",
    "        iVal.sort()\n",
    " \n",
    "        totalValue = 0\n",
    "        for i in iVal:\n",
    "            curWt = int(i.wt)\n",
    "            curVal = int(i.val)\n",
    "            if capacity - curWt >= 0:\n",
    "                capacity -= curWt\n",
    "                totalValue += curVal\n",
    "            \n",
    "        return totalValue\n",
    " \n",
    " \n",
    "# Driver Code\n",
    "if __name__ == \"__main__\":\n",
    "    start_time=[1, 3, 0, 5, 3, 5, 6, 8, 8, 2, 12]\n",
    "    end_time=[4, 5, 6, 7, 8, 9, 10, 11, 12, 13, 14]\n",
    "    task_no=[1, 2, 3, 4, 5, 6, 7, 8, 9, 10, 11]\n",
    "    weight=[3, 2, 6, 2, 5, 4, 4, 3, 4, 11, 2]\n",
    "    capacity=11\n",
    "    # Function call\n",
    "    maxValue = KnapSack.getMaxValue(weight,start_time,len(task_no))\n",
    "    print(\"Maximum number of jobs that can be done by the computer =\", maxValue)"
   ]
  },
  {
   "cell_type": "code",
   "execution_count": null,
   "id": "ebf40d89",
   "metadata": {},
   "outputs": [],
   "source": []
  }
 ],
 "metadata": {
  "kernelspec": {
   "display_name": "Python 3",
   "language": "python",
   "name": "python3"
  },
  "language_info": {
   "codemirror_mode": {
    "name": "ipython",
    "version": 3
   },
   "file_extension": ".py",
   "mimetype": "text/x-python",
   "name": "python",
   "nbconvert_exporter": "python",
   "pygments_lexer": "ipython3",
   "version": "3.8.8"
  }
 },
 "nbformat": 4,
 "nbformat_minor": 5
}
