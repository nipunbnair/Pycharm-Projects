{
 "cells": [
  {
   "cell_type": "code",
   "execution_count": 22,
   "id": "5e1a8359",
   "metadata": {},
   "outputs": [
    {
     "name": "stdout",
     "output_type": "stream",
     "text": [
      "Enter the x value 50\n",
      "Element is present at index 5\n",
      "The Run time is 3.8057422637939453 seconds\n"
     ]
    }
   ],
   "source": [
    "import time\n",
    "start=time.time();\n",
    "def binary_search(arr, low, high, x):\n",
    "\n",
    "    # Check base case\n",
    "    if high >= low:\n",
    "\n",
    "        mid = (high + low) // 2\n",
    "\n",
    "        # If element is present at the middle itself\n",
    "        if arr[mid] == x:\n",
    "            return mid\n",
    "\n",
    "        # If element is smaller than mid, then it can only\n",
    "        # be present in left subarray\n",
    "        elif arr[mid] > x:\n",
    "            return binary_search(arr, low, mid - 1, x)\n",
    "\n",
    "        # Else the element can only be present in right subarray\n",
    "        else:\n",
    "            return binary_search(arr, mid + 1, high, x)\n",
    "\n",
    "    else:\n",
    "        # Element is not present in the array\n",
    "        return -1\n",
    "\n",
    "# Test array\n",
    "# arr=[]\n",
    "# n=int(input(\"Enter the n value \"))\n",
    "# for i in range(0,n):\n",
    "#    arr.append(int(input()))\n",
    "arr = [ 2, 3, 4, 10, 40, 50, 60, 77, 87, 99]\n",
    "x=int(input(\"Enter the x value \"))\n",
    "\n",
    "# Function call\n",
    "result = binary_search(arr, 0, len(arr)-1, x)\n",
    "\n",
    "if result != -1:\n",
    "    print(\"Element is present at index\", str(result))\n",
    "else:\n",
    "    print(\"Element is not present in array\")\n",
    "end=time.time()\n",
    "print(f\"The Run time is {end-start} seconds\")"
   ]
  },
  {
   "cell_type": "code",
   "execution_count": 24,
   "id": "c87eefde",
   "metadata": {},
   "outputs": [
    {
     "name": "stdout",
     "output_type": "stream",
     "text": [
      "Enter the x value 50\n",
      "Element is present at index 5\n",
      "The Run time is 2.53725528717041 seconds\n"
     ]
    }
   ],
   "source": [
    "import time\n",
    "start=time.time();\n",
    "#  Compare Linear and Binary search with time\n",
    "# increase n value and compare time \n",
    "def search(arr, x):\n",
    "  \n",
    "    for i in range(len(arr)):\n",
    "  \n",
    "        if arr[i] == x:\n",
    "            return i\n",
    "  \n",
    "    return -1\n",
    "\n",
    "# Test array\n",
    "#arr=[]\n",
    "#n=int(input(\"Enter the n value \"))\n",
    "#for i in range(0,n):\n",
    "#    arr.append(int(input()))\n",
    "arr = [ 2, 3, 4, 10, 40, 50, 60, 77, 87, 99]\n",
    "x=int(input(\"Enter the x value \"))\n",
    "\n",
    "\n",
    "# Function call\n",
    "result = search(arr,x)\n",
    "\n",
    "if result != -1:\n",
    "    print(\"Element is present at index\", str(result))\n",
    "else:\n",
    "    print(\"Element is not present in array\")\n",
    "end=time.time()\n",
    "print(f\"The Run time is {end-start} seconds\")"
   ]
  },
  {
   "cell_type": "code",
   "execution_count": 30,
   "id": "dc56bb84",
   "metadata": {},
   "outputs": [
    {
     "name": "stdout",
     "output_type": "stream",
     "text": [
      "Enter the x value 10\n",
      "Element is present at index 3\n",
      "The Run time is 2.4451379776000977 seconds\n"
     ]
    }
   ],
   "source": [
    "import time\n",
    "start=time.time();\n",
    "def binary_search(arr, x):\n",
    "    low = 0\n",
    "    high = len(arr) - 1\n",
    "    mid = 0\n",
    " \n",
    "    while low <= high:\n",
    " \n",
    "        mid = (high + low) // 2\n",
    " \n",
    "        # If x is greater, ignore left half\n",
    "        if arr[mid] < x:\n",
    "            low = mid + 1\n",
    " \n",
    "        # If x is smaller, ignore right half\n",
    "        elif arr[mid] > x:\n",
    "            high = mid - 1\n",
    " \n",
    "        # means x is present at mid\n",
    "        else:\n",
    "            return mid\n",
    " \n",
    "    # If we reach here, then the element was not present\n",
    "    return -1\n",
    " \n",
    " \n",
    " # Test array\n",
    "arr = [ 2, 3, 4, 10, 40, 50, 60, 77, 87, 99]\n",
    "x=int(input(\"Enter the x value \"))\n",
    " \n",
    "# Function call\n",
    "result = binary_search(arr, x)\n",
    " \n",
    "if result != -1:\n",
    "    print(\"Element is present at index\", str(result))\n",
    "else:\n",
    "    print(\"Element is not present in array\")\n",
    "    \n",
    "end=time.time()\n",
    "print(f\"The Run time is {end-start} seconds\")    "
   ]
  },
  {
   "cell_type": "code",
   "execution_count": 39,
   "id": "bfb75a14",
   "metadata": {},
   "outputs": [
    {
     "data": {
      "image/png": "[encoded data removed]",
      "text/plain": [
       "<Figure size 432x288 with 1 Axes>"
      ]
     },
     "metadata": {
      "needs_background": "light"
     },
     "output_type": "display_data"
    }
   ],
   "source": [
    "import matplotlib.pyplot as plt\n",
    "n = [ 5, 6, 7, 8, 9, 10]\n",
    "br = [ 5.486, 3.217, 3.035, 3.615, 4.747, 3.509]\n",
    "l = [ 3.889, 2.642, 3.311, 3.561, 5.129, 6.363]\n",
    "b = [2.063, 3.151, 1.893, 2.543, 2.919, 2.445]\n",
    "plt.plot(n,l, label = \"Linear\")\n",
    " \n",
    "# plotting the line 2 points\n",
    "plt.plot(n, br, label = \"Recursive Binary\")\n",
    "plt.plot(n, b, label = \"Binary\")\n",
    "# naming the x axis\n",
    "plt.xlabel('x - axis')\n",
    "# naming the y axis\n",
    "plt.ylabel('y - axis')\n",
    "# giving a title to my graph\n",
    "plt.title('Time complexity of Binary and Linear Search')\n",
    " \n",
    "# show a legend on the plot\n",
    "plt.legend()\n",
    " \n",
    "# function to show the plot\n",
    "plt.show()"
   ]
  },
  {
   "cell_type": "code",
   "execution_count": null,
   "id": "1a5d96fc",
   "metadata": {},
   "outputs": [],
   "source": []
  }
 ],
 "metadata": {
  "kernelspec": {
   "display_name": "Python 3",
   "language": "python",
   "name": "python3"
  },
  "language_info": {
   "codemirror_mode": {
    "name": "ipython",
    "version": 3
   },
   "file_extension": ".py",
   "mimetype": "text/x-python",
   "name": "python",
   "nbconvert_exporter": "python",
   "pygments_lexer": "ipython3",
   "version": "3.8.8"
  }
 },
 "nbformat": 4,
 "nbformat_minor": 5
}
