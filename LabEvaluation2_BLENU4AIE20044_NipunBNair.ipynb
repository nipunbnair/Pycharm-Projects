{
 "cells": [
  {
   "cell_type": "code",
   "execution_count": 6,
   "id": "eb853825",
   "metadata": {},
   "outputs": [],
   "source": [
    "# Lab Evaluation 2\n",
    "# BLENU4AIE20044\n",
    "# Nipun B Nair\n",
    "\n"
   ]
  },
  {
   "cell_type": "code",
   "execution_count": 7,
   "id": "bfd77ca7",
   "metadata": {},
   "outputs": [],
   "source": [
    "# Question \n",
    "# Write  a  program  to  perform  Brute  force  Cyclopeptide  sequencing algorithm inorder    to    generate    candidate    peptides    from    theexperimental spectrumgiven below:\n",
    "# Spectrum=[0, 113,128, 186, 241, 299, 314, 427]"
   ]
  },
  {
   "cell_type": "code",
   "execution_count": 8,
   "id": "c7a67b75",
   "metadata": {},
   "outputs": [],
   "source": [
    "import itertools\n",
    "ParentMass = 427\n",
    "Amino=\"GASPVTCILNDKQEMHFRYW\"\n",
    "AminoWeight={'G':57,'A':71,'S':87,'P':97,'V':99,'T':101,'C':103,'I':113,'L':113,'N':114,'D':115,'K':128,'Q':128,'E':129,'M':131,'H':137,'F':147,'R':156,'Y':163,'W':186}\n",
    "def getAminoWeight(x):\n",
    "    w=0\n",
    "    for i in x:\n",
    "        w=w+AminoWeight[i]\n",
    "        \n",
    "    return w"
   ]
  },
  {
   "cell_type": "code",
   "execution_count": 5,
   "id": "8c29fe0d",
   "metadata": {},
   "outputs": [
    {
     "name": "stdout",
     "output_type": "stream",
     "text": [
      "The number of peptides obtained through Brute Force is 1691\n",
      "['I', 'L', 'K', 'Q', 'W', 'GA', 'GE', 'AG', 'AD', 'SV', 'VS', 'IK', 'IQ', 'IW', 'LK', 'LQ', 'LW', 'DA', 'KI', 'KL', 'KW', 'QI', 'QL', 'QW', 'EG', 'WI', 'WL', 'WK', 'WQ', 'GAI', 'GAL', 'GAW', 'GSP', 'GPS', 'GTR', 'GIA', 'GIE', 'GLA', 'GLE', 'GNK', 'GNQ', 'GKN', 'GKE', 'GQN', 'GQE', 'GEI', 'GEL', 'GEK', 'GEQ', 'GRT', 'GWA', 'AGI', 'AGL', 'AGW', 'ASR', 'APM', 'AVE', 'AIG', 'AID', 'ALG', 'ALD', 'ANE', 'ADI', 'ADL', 'ADK', 'ADQ', 'AKD', 'AQD', 'AEV', 'AEN', 'AMP', 'ARS', 'AWG', 'SGP', 'SAR', 'SPG', 'SPD', 'SVI', 'SVL', 'SVK', 'SVQ', 'SIV', 'SIN', 'SLV', 'SLN', 'SNI', 'SNL', 'SDP', 'SKV', 'SQV', 'SRA', 'PGS', 'PAM', 'PSG', 'PSD', 'PVC', 'PCV', 'PCN', 'PNC', 'PDS', 'PMA', 'VAE', 'VSI', 'VSL', 'VSK', 'VSQ', 'VPC', 'VTN', 'VCP', 'VIS', 'VLS', 'VNT', 'VKS', 'VQS', 'VEA', 'TGR', 'TVN', 'TNV', 'TRG', 'CPV', 'CPN', 'CVP', 'CNP', 'IGA', 'IGE', 'IAG', 'IAD', 'ISV', 'ISN', 'IVS', 'INS', 'IDA', 'IKW', 'IQW', 'IEG', 'IWK', 'IWQ', 'LGA', 'LGE', 'LAG', 'LAD', 'LSV', 'LSN', 'LVS', 'LNS', 'LDA', 'LKW', 'LQW', 'LEG', 'LWK', 'LWQ', 'NGK', 'NGQ', 'NAE', 'NSI', 'NSL', 'NPC', 'NVT', 'NTV', 'NCP', 'NIS', 'NLS', 'NKG', 'NQG', 'NEA', 'DAI', 'DAL', 'DAK', 'DAQ', 'DSP', 'DPS', 'DIA', 'DLA', 'DKA', 'DQA', 'KGN', 'KGE', 'KAD', 'KSV', 'KVS', 'KIW', 'KLW', 'KNG', 'KDA', 'KEG', 'KWI', 'KWL', 'QGN', 'QGE', 'QAD', 'QSV', 'QVS', 'QIW', 'QLW', 'QNG', 'QDA', 'QEG', 'QWI', 'QWL', 'EGI', 'EGL', 'EGK', 'EGQ', 'EAV', 'EAN', 'EVA', 'EIG', 'ELG', 'ENA', 'EKG', 'EQG', 'MAP', 'MPA', 'RGT', 'RAS', 'RSA', 'RTG', 'WGA', 'WAG', 'WIK', 'WIQ', 'WLK', 'WLQ', 'WKI', 'WKL', 'WQI', 'WQL', 'GASV', 'GAVS', 'GAIW', 'GALW', 'GAWI', 'GAWL', 'GSAV', 'GSPW', 'GSVA', 'GSWP', 'GPSW', 'GPWS', 'GVAS', 'GVSA', 'GVDR', 'GVRD', 'GTIR', 'GTLR', 'GTRI', 'GTRL', 'GIAW', 'GITR', 'GIKE', 'GIQE', 'GIEK', 'GIEQ', 'GIRT', 'GIWA', 'GLAW', 'GLTR', 'GLKE', 'GLQE', 'GLEK', 'GLEQ', 'GLRT', 'GLWA', 'GNKQ', 'GNQK', 'GDVR', 'GDRV', 'GKIE', 'GKLE', 'GKNQ', 'GKQN', 'GKEI', 'GKEL', 'GQIE', 'GQLE', 'GQNK', 'GQKN', 'GQEI', 'GQEL', 'GEIK', 'GEIQ', 'GELK', 'GELQ', 'GEKI', 'GEKL', 'GEQI', 'GEQL', 'GRVD', 'GRTI', 'GRTL', 'GRIT', 'GRLT', 'GRDV', 'GWAI', 'GWAL', 'GWSP', 'GWPS', 'GWIA', 'GWLA', 'AGSV', 'AGVS', 'AGIW', 'AGLW', 'AGWI', 'AGWL', 'ASGV', 'ASVG', 'ASIR', 'ASLR', 'ASRI', 'ASRL', 'APCR', 'APKM', 'APQM', 'APMK', 'APMQ', 'APRC', 'AVGS', 'AVSG', 'AVTR', 'AVKE', 'AVQE', 'AVEK', 'AVEQ', 'AVRT', 'ATVR', 'ATRV', 'ACPR', 'ACRP', 'AIGW', 'AISR', 'AINE', 'AIDK', 'AIDQ', 'AIKD', 'AIQD', 'AIEN', 'AIRS', 'AIWG', 'ALGW', 'ALSR', 'ALNE', 'ALDK', 'ALDQ', 'ALKD', 'ALQD', 'ALEN', 'ALRS', 'ALWG', 'ANIE', 'ANLE', 'ANEI', 'ANEL', 'ADIK', 'ADIQ', 'ADLK', 'ADLQ', 'ADKI', 'ADKL', 'ADQI', 'ADQL', 'AKPM', 'AKVE', 'AKID', 'AKLD', 'AKDI', 'AKDL', 'AKEV', 'AKMP', 'AQPM', 'AQVE', 'AQID', 'AQLD', 'AQDI', 'AQDL', 'AQEV', 'AQMP', 'AEVK', 'AEVQ', 'AEIN', 'AELN', 'AENI', 'AENL', 'AEKV', 'AEQV', 'AMPK', 'AMPQ', 'AMKP', 'AMQP', 'ARSI', 'ARSL', 'ARPC', 'ARVT', 'ARTV', 'ARCP', 'ARIS', 'ARLS', 'AWGI', 'AWGL', 'AWIG', 'AWLG', 'SGAV', 'SGPW', 'SGVA', 'SGWP', 'SAGV', 'SAVG', 'SAIR', 'SALR', 'SARI', 'SARL', 'SPGW', 'SPNE', 'SPDK', 'SPDQ', 'SPKD', 'SPQD', 'SPEN', 'SPWG', 'SVGA', 'SVAG', 'SVIK', 'SVIQ', 'SVLK', 'SVLQ', 'SVKI', 'SVKL', 'SVQI', 'SVQL', 'SIAR', 'SIVK', 'SIVQ', 'SILN', 'SINL', 'SIKV', 'SIQV', 'SIRA', 'SLAR', 'SLVK', 'SLVQ', 'SLIN', 'SLNI', 'SLKV', 'SLQV', 'SLRA', 'SNPE', 'SNIL', 'SNLI', 'SNEP', 'SDPK', 'SDPQ', 'SDKP', 'SDQP', 'SKPD', 'SKVI', 'SKVL', 'SKIV', 'SKLV', 'SKDP', 'SQPD', 'SQVI', 'SQVL', 'SQIV', 'SQLV', 'SQDP', 'SEPN', 'SENP', 'SRAI', 'SRAL', 'SRIA', 'SRLA', 'SWGP', 'SWPG', 'PGSW', 'PGWS', 'PACR', 'PAKM', 'PAQM', 'PAMK', 'PAMQ', 'PARC', 'PSGW', 'PSNE', 'PSDK', 'PSDQ', 'PSKD', 'PSQD', 'PSEN', 'PSWG', 'PVCK', 'PVCQ', 'PVKC', 'PVQC', 'PTND', 'PTDN', 'PCAR', 'PCVK', 'PCVQ', 'PCIN', 'PCLN', 'PCNI', 'PCNL', 'PCKV', 'PCQV', 'PCRA', 'PICN', 'PINC', 'PLCN', 'PLNC', 'PNSE', 'PNTD', 'PNCI', 'PNCL', 'PNIC', 'PNLC', 'PNDT', 'PNES', 'PDSK', 'PDSQ', 'PDTN', 'PDNT', 'PDKS', 'PDQS', 'PKAM', 'PKSD', 'PKVC', 'PKCV', 'PKDS', 'PKMA', 'PQAM', 'PQSD', 'PQVC', 'PQCV', 'PQDS', 'PQMA', 'PESN', 'PENS', 'PMAK', 'PMAQ', 'PMKA', 'PMQA', 'PRAC', 'PRCA', 'PWGS', 'PWSG', 'VGAS', 'VGSA', 'VGDR', 'VGRD', 'VAGS', 'VASG', 'VATR', 'VAKE', 'VAQE', 'VAEK', 'VAEQ', 'VART', 'VSGA', 'VSAG', 'VSIK', 'VSIQ', 'VSLK', 'VSLQ', 'VSKI', 'VSKL', 'VSQI', 'VSQL', 'VPCK', 'VPCQ', 'VPKC', 'VPQC', 'VTAR', 'VTIN', 'VTLN', 'VTNI', 'VTNL', 'VTRA', 'VCPK', 'VCPQ', 'VCKP', 'VCQP', 'VISK', 'VISQ', 'VITN', 'VINT', 'VIKS', 'VIQS', 'VLSK', 'VLSQ', 'VLTN', 'VLNT', 'VLKS', 'VLQS', 'VNTI', 'VNTL', 'VNIT', 'VNLT', 'VDGR', 'VDRG', 'VKAE', 'VKSI', 'VKSL', 'VKPC', 'VKCP', 'VKIS', 'VKLS', 'VKEA', 'VQAE', 'VQSI', 'VQSL', 'VQPC', 'VQCP', 'VQIS', 'VQLS', 'VQEA', 'VEAK', 'VEAQ', 'VEKA', 'VEQA', 'VRGD', 'VRAT', 'VRTA', 'VRDG', 'TGIR', 'TGLR', 'TGRI', 'TGRL', 'TAVR', 'TARV', 'TPND', 'TPDN', 'TVAR', 'TVIN', 'TVLN', 'TVNI', 'TVNL', 'TVRA', 'TIGR', 'TIVN', 'TINV', 'TIRG', 'TLGR', 'TLVN', 'TLNV', 'TLRG', 'TNPD', 'TNVI', 'TNVL', 'TNIV', 'TNLV', 'TNDP', 'TDPN', 'TDNP', 'TRGI', 'TRGL', 'TRAV', 'TRVA', 'TRIG', 'TRLG', 'CAPR', 'CARP', 'CPAR', 'CPVK', 'CPVQ', 'CPIN', 'CPLN', 'CPNI', 'CPNL', 'CPKV', 'CPQV', 'CPRA', 'CVPK', 'CVPQ', 'CVKP', 'CVQP', 'CIPN', 'CINP', 'CLPN', 'CLNP', 'CNPI', 'CNPL', 'CNIP', 'CNLP', 'CKPV', 'CKVP', 'CQPV', 'CQVP', 'CRAP', 'CRPA', 'IGAW', 'IGTR', 'IGKE', 'IGQE', 'IGEK', 'IGEQ', 'IGRT', 'IGWA', 'IAGW', 'IASR', 'IANE', 'IADK', 'IADQ', 'IAKD', 'IAQD', 'IAEN', 'IARS', 'IAWG', 'ISAR', 'ISVK', 'ISVQ', 'ISLN', 'ISNL', 'ISKV', 'ISQV', 'ISRA', 'IPCN', 'IPNC', 'IVSK', 'IVSQ', 'IVTN', 'IVNT', 'IVKS', 'IVQS', 'ITGR', 'ITVN', 'ITNV', 'ITRG', 'ICPN', 'ICNP', 'ILSN', 'ILNS', 'INAE', 'INSL', 'INPC', 'INVT', 'INTV', 'INCP', 'INLS', 'INEA', 'IDAK', 'IDAQ', 'IDKA', 'IDQA', 'IKGE', 'IKAD', 'IKSV', 'IKVS', 'IKDA', 'IKEG', 'IQGE', 'IQAD', 'IQSV', 'IQVS', 'IQDA', 'IQEG', 'IEGK', 'IEGQ', 'IEAN', 'IENA', 'IEKG', 'IEQG', 'IRGT', 'IRAS', 'IRSA', 'IRTG', 'IWGA', 'IWAG', 'LGAW', 'LGTR', 'LGKE', 'LGQE', 'LGEK', 'LGEQ', 'LGRT', 'LGWA', 'LAGW', 'LASR', 'LANE', 'LADK', 'LADQ', 'LAKD', 'LAQD', 'LAEN', 'LARS', 'LAWG', 'LSAR', 'LSVK', 'LSVQ', 'LSIN', 'LSNI', 'LSKV', 'LSQV', 'LSRA', 'LPCN', 'LPNC', 'LVSK', 'LVSQ', 'LVTN', 'LVNT', 'LVKS', 'LVQS', 'LTGR', 'LTVN', 'LTNV', 'LTRG', 'LCPN', 'LCNP', 'LISN', 'LINS', 'LNAE', 'LNSI', 'LNPC', 'LNVT', 'LNTV', 'LNCP', 'LNIS', 'LNEA', 'LDAK', 'LDAQ', 'LDKA', 'LDQA', 'LKGE', 'LKAD', 'LKSV', 'LKVS', 'LKDA', 'LKEG', 'LQGE', 'LQAD', 'LQSV', 'LQVS', 'LQDA', 'LQEG', 'LEGK', 'LEGQ', 'LEAN', 'LENA', 'LEKG', 'LEQG', 'LRGT', 'LRAS', 'LRSA', 'LRTG', 'LWGA', 'LWAG', 'NGKQ', 'NGQK', 'NAIE', 'NALE', 'NAEI', 'NAEL', 'NSPE', 'NSIL', 'NSLI', 'NSEP', 'NPSE', 'NPTD', 'NPCI', 'NPCL', 'NPIC', 'NPLC', 'NPDT', 'NPES', 'NVTI', 'NVTL', 'NVIT', 'NVLT', 'NTPD', 'NTVI', 'NTVL', 'NTIV', 'NTLV', 'NTDP', 'NCPI', 'NCPL', 'NCIP', 'NCLP', 'NIAE', 'NISL', 'NIPC', 'NIVT', 'NITV', 'NICP', 'NILS', 'NIEA', 'NLAE', 'NLSI', 'NLPC', 'NLVT', 'NLTV', 'NLCP', 'NLIS', 'NLEA', 'NDPT', 'NDTP', 'NKGQ', 'NKQG', 'NQGK', 'NQKG', 'NEAI', 'NEAL', 'NESP', 'NEPS', 'NEIA', 'NELA', 'DGVR', 'DGRV', 'DAIK', 'DAIQ', 'DALK', 'DALQ', 'DAKI', 'DAKL', 'DAQI', 'DAQL', 'DSPK', 'DSPQ', 'DSKP', 'DSQP', 'DPSK', 'DPSQ', 'DPTN', 'DPNT', 'DPKS', 'DPQS', 'DVGR', 'DVRG', 'DTPN', 'DTNP', 'DIAK', 'DIAQ', 'DIKA', 'DIQA', 'DLAK', 'DLAQ', 'DLKA', 'DLQA', 'DNPT', 'DNTP', 'DKAI', 'DKAL', 'DKSP', 'DKPS', 'DKIA', 'DKLA', 'DQAI', 'DQAL', 'DQSP', 'DQPS', 'DQIA', 'DQLA', 'DRGV', 'DRVG', 'KGIE', 'KGLE', 'KGNQ', 'KGQN', 'KGEI', 'KGEL', 'KAPM', 'KAVE', 'KAID', 'KALD', 'KADI', 'KADL', 'KAEV', 'KAMP', 'KSPD', 'KSVI', 'KSVL', 'KSIV', 'KSLV', 'KSDP', 'KPAM', 'KPSD', 'KPVC', 'KPCV', 'KPDS', 'KPMA', 'KVAE', 'KVSI', 'KVSL', 'KVPC', 'KVCP', 'KVIS', 'KVLS', 'KVEA', 'KCPV', 'KCVP', 'KIGE', 'KIAD', 'KISV', 'KIVS', 'KIDA', 'KIEG', 'KLGE', 'KLAD', 'KLSV', 'KLVS', 'KLDA', 'KLEG', 'KNGQ', 'KNQG', 'KDAI', 'KDAL', 'KDSP', 'KDPS', 'KDIA', 'KDLA', 'KQGN', 'KQNG', 'KEGI', 'KEGL', 'KEAV', 'KEVA', 'KEIG', 'KELG', 'KMAP', 'KMPA', 'QGIE', 'QGLE', 'QGNK', 'QGKN', 'QGEI', 'QGEL', 'QAPM', 'QAVE', 'QAID', 'QALD', 'QADI', 'QADL', 'QAEV', 'QAMP', 'QSPD', 'QSVI', 'QSVL', 'QSIV', 'QSLV', 'QSDP', 'QPAM', 'QPSD', 'QPVC', 'QPCV', 'QPDS', 'QPMA', 'QVAE', 'QVSI', 'QVSL', 'QVPC', 'QVCP', 'QVIS', 'QVLS', 'QVEA', 'QCPV', 'QCVP', 'QIGE', 'QIAD', 'QISV', 'QIVS', 'QIDA', 'QIEG', 'QLGE', 'QLAD', 'QLSV', 'QLVS', 'QLDA', 'QLEG', 'QNGK', 'QNKG', 'QDAI', 'QDAL', 'QDSP', 'QDPS', 'QDIA', 'QDLA', 'QKGN', 'QKNG', 'QEGI', 'QEGL', 'QEAV', 'QEVA', 'QEIG', 'QELG', 'QMAP', 'QMPA', 'EGIK', 'EGIQ', 'EGLK', 'EGLQ', 'EGKI', 'EGKL', 'EGQI', 'EGQL', 'EAVK', 'EAVQ', 'EAIN', 'EALN', 'EANI', 'EANL', 'EAKV', 'EAQV', 'ESPN', 'ESNP', 'EPSN', 'EPNS', 'EVAK', 'EVAQ', 'EVKA', 'EVQA', 'EIGK', 'EIGQ', 'EIAN', 'EINA', 'EIKG', 'EIQG', 'ELGK', 'ELGQ', 'ELAN', 'ELNA', 'ELKG', 'ELQG', 'ENAI', 'ENAL', 'ENSP', 'ENPS', 'ENIA', 'ENLA', 'EKGI', 'EKGL', 'EKAV', 'EKVA', 'EKIG', 'EKLG', 'EQGI', 'EQGL', 'EQAV', 'EQVA', 'EQIG', 'EQLG', 'MAPK', 'MAPQ', 'MAKP', 'MAQP', 'MPAK', 'MPAQ', 'MPKA', 'MPQA', 'MKAP', 'MKPA', 'MQAP', 'MQPA', 'RGVD', 'RGTI', 'RGTL', 'RGIT', 'RGLT', 'RGDV', 'RASI', 'RASL', 'RAPC', 'RAVT', 'RATV', 'RACP', 'RAIS', 'RALS', 'RSAI', 'RSAL', 'RSIA', 'RSLA', 'RPAC', 'RPCA', 'RVGD', 'RVAT', 'RVTA', 'RVDG', 'RTGI', 'RTGL', 'RTAV', 'RTVA', 'RTIG', 'RTLG', 'RCAP', 'RCPA', 'RIGT', 'RIAS', 'RISA', 'RITG', 'RLGT', 'RLAS', 'RLSA', 'RLTG', 'RDGV', 'RDVG', 'WGAI', 'WGAL', 'WGSP', 'WGPS', 'WGIA', 'WGLA', 'WAGI', 'WAGL', 'WAIG', 'WALG', 'WSGP', 'WSPG', 'WPGS', 'WPSG', 'WIGA', 'WIAG', 'WLGA', 'WLAG', 'GASPD', 'GASVI', 'GASVL', 'GASIV', 'GASLV', 'GASDP', 'GAPSD', 'GAPVC', 'GAPCV', 'GAPDS', 'GAVSI', 'GAVSL', 'GAVPC', 'GAVCP', 'GAVIS', 'GAVLS', 'GACPV', 'GACVP', 'GAISV', 'GAIVS', 'GALSV', 'GALVS', 'GADSP', 'GADPS', 'GSAPD', 'GSAVI', 'GSAVL', 'GSAIV', 'GSALV', 'GSADP', 'GSPAD', 'GSPDA', 'GSVAI', 'GSVAL', 'GSVIA', 'GSVLA', 'GSIAV', 'GSIVA', 'GSLAV', 'GSLVA', 'GSDAP', 'GSDPA', 'GPASD', 'GPAVC', 'GPACV', 'GPADS', 'GPSAD', 'GPSDA', 'GPVAC', 'GPVCA', 'GPCAV', 'GPCVA', 'GPDAS', 'GPDSA', 'GVASI', 'GVASL', 'GVAPC', 'GVACP', 'GVAIS', 'GVALS', 'GVSAI', 'GVSAL', 'GVSIA', 'GVSLA', 'GVPAC', 'GVPCA', 'GVCAP', 'GVCPA', 'GVIAS', 'GVISA', 'GVLAS', 'GVLSA', 'GCAPV', 'GCAVP', 'GCPAV', 'GCPVA', 'GCVAP', 'GCVPA', 'GIASV', 'GIAVS', 'GISAV', 'GISVA', 'GIVAS', 'GIVSA', 'GLASV', 'GLAVS', 'GLSAV', 'GLSVA', 'GLVAS', 'GLVSA', 'GDASP', 'GDAPS', 'GDSAP', 'GDSPA', 'GDPAS', 'GDPSA', 'AGSPD', 'AGSVI', 'AGSVL', 'AGSIV', 'AGSLV', 'AGSDP', 'AGPSD', 'AGPVC', 'AGPCV', 'AGPDS', 'AGVSI', 'AGVSL', 'AGVPC', 'AGVCP', 'AGVIS', 'AGVLS', 'AGCPV', 'AGCVP', 'AGISV', 'AGIVS', 'AGLSV', 'AGLVS', 'AGDSP', 'AGDPS', 'ASGPD', 'ASGVI', 'ASGVL', 'ASGIV', 'ASGLV', 'ASGDP', 'ASPGD', 'ASPDG', 'ASVGI', 'ASVGL', 'ASVIG', 'ASVLG', 'ASIGV', 'ASIVG', 'ASLGV', 'ASLVG', 'ASDGP', 'ASDPG', 'APGSD', 'APGVC', 'APGCV', 'APGDS', 'APSGD', 'APSDG', 'APVGC', 'APVCG', 'APCGV', 'APCVG', 'APDGS', 'APDSG', 'AVGSI', 'AVGSL', 'AVGPC', 'AVGCP', 'AVGIS', 'AVGLS', 'AVSGI', 'AVSGL', 'AVSIG', 'AVSLG', 'AVPGC', 'AVPCG', 'AVCGP', 'AVCPG', 'AVIGS', 'AVISG', 'AVLGS', 'AVLSG', 'ACGPV', 'ACGVP', 'ACPGV', 'ACPVG', 'ACVGP', 'ACVPG', 'AIGSV', 'AIGVS', 'AISGV', 'AISVG', 'AIVGS', 'AIVSG', 'ALGSV', 'ALGVS', 'ALSGV', 'ALSVG', 'ALVGS', 'ALVSG', 'ADGSP', 'ADGPS', 'ADSGP', 'ADSPG', 'ADPGS', 'ADPSG', 'SGAPD', 'SGAVI', 'SGAVL', 'SGAIV', 'SGALV', 'SGADP', 'SGPAD', 'SGPDA', 'SGVAI', 'SGVAL', 'SGVIA', 'SGVLA', 'SGIAV', 'SGIVA', 'SGLAV', 'SGLVA', 'SGDAP', 'SGDPA', 'SAGPD', 'SAGVI', 'SAGVL', 'SAGIV', 'SAGLV', 'SAGDP', 'SAPGD', 'SAPDG', 'SAVGI', 'SAVGL', 'SAVIG', 'SAVLG', 'SAIGV', 'SAIVG', 'SALGV', 'SALVG', 'SADGP', 'SADPG', 'SPGAD', 'SPGDA', 'SPAGD', 'SPADG', 'SPDGA', 'SPDAG', 'SVGAI', 'SVGAL', 'SVGIA', 'SVGLA', 'SVAGI', 'SVAGL', 'SVAIG', 'SVALG', 'SVIGA', 'SVIAG', 'SVLGA', 'SVLAG', 'SIGAV', 'SIGVA', 'SIAGV', 'SIAVG', 'SIVGA', 'SIVAG', 'SLGAV', 'SLGVA', 'SLAGV', 'SLAVG', 'SLVGA', 'SLVAG', 'SDGAP', 'SDGPA', 'SDAGP', 'SDAPG', 'SDPGA', 'SDPAG', 'PGASD', 'PGAVC', 'PGACV', 'PGADS', 'PGSAD', 'PGSDA', 'PGVAC', 'PGVCA', 'PGCAV', 'PGCVA', 'PGDAS', 'PGDSA', 'PAGSD', 'PAGVC', 'PAGCV', 'PAGDS', 'PASGD', 'PASDG', 'PAVGC', 'PAVCG', 'PACGV', 'PACVG', 'PADGS', 'PADSG', 'PSGAD', 'PSGDA', 'PSAGD', 'PSADG', 'PSDGA', 'PSDAG', 'PVGAC', 'PVGCA', 'PVAGC', 'PVACG', 'PVCGA', 'PVCAG', 'PCGAV', 'PCGVA', 'PCAGV', 'PCAVG', 'PCVGA', 'PCVAG', 'PDGAS', 'PDGSA', 'PDAGS', 'PDASG', 'PDSGA', 'PDSAG', 'VGASI', 'VGASL', 'VGAPC', 'VGACP', 'VGAIS', 'VGALS', 'VGSAI', 'VGSAL', 'VGSIA', 'VGSLA', 'VGPAC', 'VGPCA', 'VGCAP', 'VGCPA', 'VGIAS', 'VGISA', 'VGLAS', 'VGLSA', 'VAGSI', 'VAGSL', 'VAGPC', 'VAGCP', 'VAGIS', 'VAGLS', 'VASGI', 'VASGL', 'VASIG', 'VASLG', 'VAPGC', 'VAPCG', 'VACGP', 'VACPG', 'VAIGS', 'VAISG', 'VALGS', 'VALSG', 'VSGAI', 'VSGAL', 'VSGIA', 'VSGLA', 'VSAGI', 'VSAGL', 'VSAIG', 'VSALG', 'VSIGA', 'VSIAG', 'VSLGA', 'VSLAG', 'VPGAC', 'VPGCA', 'VPAGC', 'VPACG', 'VPCGA', 'VPCAG', 'VCGAP', 'VCGPA', 'VCAGP', 'VCAPG', 'VCPGA', 'VCPAG', 'VIGAS', 'VIGSA', 'VIAGS', 'VIASG', 'VISGA', 'VISAG', 'VLGAS', 'VLGSA', 'VLAGS', 'VLASG', 'VLSGA', 'VLSAG', 'CGAPV', 'CGAVP', 'CGPAV', 'CGPVA', 'CGVAP', 'CGVPA', 'CAGPV', 'CAGVP', 'CAPGV', 'CAPVG', 'CAVGP', 'CAVPG', 'CPGAV', 'CPGVA', 'CPAGV', 'CPAVG', 'CPVGA', 'CPVAG', 'CVGAP', 'CVGPA', 'CVAGP', 'CVAPG', 'CVPGA', 'CVPAG', 'IGASV', 'IGAVS', 'IGSAV', 'IGSVA', 'IGVAS', 'IGVSA', 'IAGSV', 'IAGVS', 'IASGV', 'IASVG', 'IAVGS', 'IAVSG', 'ISGAV', 'ISGVA', 'ISAGV', 'ISAVG', 'ISVGA', 'ISVAG', 'IVGAS', 'IVGSA', 'IVAGS', 'IVASG', 'IVSGA', 'IVSAG', 'LGASV', 'LGAVS', 'LGSAV', 'LGSVA', 'LGVAS', 'LGVSA', 'LAGSV', 'LAGVS', 'LASGV', 'LASVG', 'LAVGS', 'LAVSG', 'LSGAV', 'LSGVA', 'LSAGV', 'LSAVG', 'LSVGA', 'LSVAG', 'LVGAS', 'LVGSA', 'LVAGS', 'LVASG', 'LVSGA', 'LVSAG', 'DGASP', 'DGAPS', 'DGSAP', 'DGSPA', 'DGPAS', 'DGPSA', 'DAGSP', 'DAGPS', 'DASGP', 'DASPG', 'DAPGS', 'DAPSG', 'DSGAP', 'DSGPA', 'DSAGP', 'DSAPG', 'DSPGA', 'DSPAG', 'DPGAS', 'DPGSA', 'DPAGS', 'DPASG', 'DPSGA', 'DPSAG']\n"
     ]
    }
   ],
   "source": [
    "Spectrum=[0, 113,128, 186, 241, 299, 314, 427]\n",
    "def permutate_all_substrings(text):\n",
    "    permutations = []\n",
    "                         \n",
    "    for length in range(1,6):\n",
    "        for p in itertools.permutations(text, length):\n",
    "                 for j in range(0,len(Spectrum)):\n",
    "                    if getAminoWeight(p) == Spectrum[j]:\n",
    "                        permutations.append(\"\".join(p))\n",
    "                        \n",
    "      \n",
    "            \n",
    "    return permutations\n",
    "        \n",
    "AllPossible = permutate_all_substrings(Amino)\n",
    "print(\"The number of peptides obtained through Brute Force is\",len(AllPossible))\n",
    "print((AllPossible))\n",
    "\n"
   ]
  },
  {
   "cell_type": "code",
   "execution_count": null,
   "id": "97e2166c",
   "metadata": {},
   "outputs": [],
   "source": []
  },
  {
   "cell_type": "code",
   "execution_count": null,
   "id": "07a52118",
   "metadata": {},
   "outputs": [],
   "source": []
  }
 ],
 "metadata": {
  "kernelspec": {
   "display_name": "Python 3",
   "language": "python",
   "name": "python3"
  },
  "language_info": {
   "codemirror_mode": {
    "name": "ipython",
    "version": 3
   },
   "file_extension": ".py",
   "mimetype": "text/x-python",
   "name": "python",
   "nbconvert_exporter": "python",
   "pygments_lexer": "ipython3",
   "version": "3.8.8"
  }
 },
 "nbformat": 4,
 "nbformat_minor": 5
}
