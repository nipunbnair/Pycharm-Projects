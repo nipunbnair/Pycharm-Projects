{
 "cells": [
  {
   "cell_type": "markdown",
   "id": "4a85c8b7",
   "metadata": {},
   "source": [
    "### IBS-4 ASSIGNMENT\n",
    "#### NAME:N.SUSHMA\n",
    "#### REGISTRATION NO: BL.EN.U4AIE20038\n",
    "### Needleman-wunch Algorithm"
   ]
  },
  {
   "cell_type": "code",
   "execution_count": 1,
   "id": "bc591804",
   "metadata": {},
   "outputs": [
    {
     "name": "stdout",
     "output_type": "stream",
     "text": [
      "[[  0.  -2.  -4.  -6.  -8. -10.]\n",
      " [ -2.   1.  -1.  -3.  -5.  -7.]\n",
      " [ -4.  -1.   2.   0.  -2.  -4.]\n",
      " [ -6.  -3.   0.   3.   1.  -1.]\n",
      " [ -8.  -5.  -2.   1.   2.   0.]\n",
      " [-10.  -7.  -4.  -1.   2.   1.]\n",
      " [-12.  -9.  -6.  -3.   0.   3.]]\n",
      "CCGTCG \n",
      "CCG_CG \n"
     ]
    }
   ],
   "source": [
    "import numpy as np\n",
    "# sequence1 = \"ATGCT\"\n",
    "# sequence2 = \"AGCT\"\n",
    "\n",
    "sequence1 = \"CCGTCG\"\n",
    "sequence2 = \"CCGCG\"\n",
    "\n",
    "# Creating matrices\n",
    "main_matrix = np.zeros((len(sequence1) + 1, len(sequence2) + 1))\n",
    "match_checker_matrix = np.zeros((len(sequence1), len(sequence2)))\n",
    "\n",
    "# Providing the score for match, mismatches and gap\n",
    "match_reward = 1\n",
    "mismatch_penalty = -1\n",
    "gap_penalty = -2\n",
    "\n",
    "# fill the match checker matrix according to match or mismatch\n",
    "for i in range(len(sequence1)):\n",
    "    for j in range(len(sequence2)):\n",
    "        if sequence1[i] == sequence2[j]:\n",
    "            match_checker_matrix[i][j]=match_reward\n",
    "        else:\n",
    "            match_checker_matrix[i][j] = mismatch_penalty\n",
    "#print(match_checker_matrix)\n",
    "\n",
    "#filling up the matrix using needleman wunsch algorithhm\n",
    "\n",
    "#step1: Initialization\n",
    "for i in range(len(sequence1)+1):\n",
    "    main_matrix[i][0]=i*gap_penalty\n",
    "for j in range(len(sequence2)+1):\n",
    "    main_matrix[0][j]=j*gap_penalty\n",
    "    \n",
    "#step2: matrix filling\n",
    "for i in range(1,len(sequence1)+1):\n",
    "    for j in range(1,len(sequence2)+1):\n",
    "        main_matrix[i][j]=max(main_matrix[i-1][j-1]+match_checker_matrix[i-1][j-1],\n",
    "                              main_matrix[i-1][j]+gap_penalty, main_matrix[i][j-1]+gap_penalty)\n",
    "print(main_matrix)\n",
    "\n",
    "#Step3: Traceback\n",
    "aligned_1=\" \"\n",
    "aligned_2=\" \"\n",
    "ti=len(sequence1)\n",
    "tj=len(sequence2)\n",
    "while(ti>=0 and tj>0):\n",
    "    if(ti>=0 and tj>0 and main_matrix[ti][tj]==main_matrix[ti-1][tj-1]+match_checker_matrix[ti-1][tj-1]):\n",
    "        aligned_1=sequence1[ti-1]+aligned_1\n",
    "        aligned_2=sequence2[tj-1]+aligned_2\n",
    "        ti=ti-1\n",
    "        tj=tj-1\n",
    "    elif(ti>=0 and main_matrix[ti][tj]== main_matrix[ti-1][tj]+ gap_penalty):\n",
    "        aligned_1=sequence1[ti-1]+aligned_1\n",
    "        aligned_2 = \"_\" + aligned_2\n",
    "        ti=ti-1\n",
    "    else:\n",
    "        aligned_1 = \"_\"+ aligned_1\n",
    "        aligned_2 = sequence2[tj - 1] + aligned_2\n",
    "        tj = tj - 1\n",
    "        \n",
    "print(aligned_1)\n",
    "print(aligned_2)"
   ]
  },
  {
   "cell_type": "code",
   "execution_count": null,
   "id": "cd8ad147",
   "metadata": {},
   "outputs": [],
   "source": []
  }
 ],
 "metadata": {
  "kernelspec": {
   "display_name": "Python 3 (ipykernel)",
   "language": "python",
   "name": "python3"
  },
  "language_info": {
   "codemirror_mode": {
    "name": "ipython",
    "version": 3
   },
   "file_extension": ".py",
   "mimetype": "text/x-python",
   "name": "python",
   "nbconvert_exporter": "python",
   "pygments_lexer": "ipython3",
   "version": "3.9.7"
  }
 },
 "nbformat": 4,
 "nbformat_minor": 5
}
