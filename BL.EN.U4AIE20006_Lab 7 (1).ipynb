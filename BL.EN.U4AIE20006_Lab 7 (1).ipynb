{
 "cells": [
  {
   "cell_type": "markdown",
   "id": "bd6f4a53",
   "metadata": {},
   "source": [
    "# IBS4 Lab7\n",
    "Name:B Srivathsan \n",
    "Regn no: BL.EN.U4AIE20006"
   ]
  },
  {
   "cell_type": "markdown",
   "id": "4d24350d",
   "metadata": {},
   "source": [
    "Write a program to implement the Needleman-Wunch algorithm. The input to the program should be two strings. Test the following test cases:\n",
    "1) ATGCT and AGCT\n",
    "2) CCGTCG and CCGCG"
   ]
  },
  {
   "cell_type": "code",
   "execution_count": 1,
   "id": "5980f965",
   "metadata": {},
   "outputs": [],
   "source": [
    "def MANHATTANTOURISTtraceback(a, b, Mat,str1,str2):\n",
    "    index = a+b\n",
    "    arr=[]\n",
    "    index=0\n",
    "    res1 = \"\"\n",
    "    res2 = \"\"\n",
    "    move=[]\n",
    "    i = a\n",
    "    j = b\n",
    "    while i > 0 and j > 0:\n",
    "        if str1[i-1]==str2[j-1] or Mat[i-1][j-1] == max([Mat[i-1][j-1],Mat[i-1][j],Mat[i][j-1]]):#Move diagonally as its a match\n",
    "            res1 = min(str1,str2)[j-1]+res1\n",
    "            res2 = max(str1,str2)[i-1]+res2\n",
    "            i -= 1\n",
    "            j -= 1\n",
    "            move.append(\"\\u2196\")\n",
    "        elif Mat[i-1][j] > Mat[i][j-1]:#Move Up in Matrix\n",
    "            i -= 1\n",
    "            index=index+1\n",
    "            res2 = max(str1,str2)[i]+res2\n",
    "            res1=\"-\"+res1\n",
    "            move.append(\"\\u2191\")\n",
    "        else:#Moves left \n",
    "            j-=1\n",
    "            index=index+1\n",
    "            res1 = min(str1,str2)[j]+res1\n",
    "            res2=\"-\"+res2\n",
    "            move.append(\"\\u2190\")\n",
    "    print(move)\n",
    "    return res1,res2"
   ]
  },
  {
   "cell_type": "code",
   "execution_count": 2,
   "id": "3b1ff3db",
   "metadata": {},
   "outputs": [
    {
     "name": "stdout",
     "output_type": "stream",
     "text": [
      "[0, -2, -4, -6, -8]\n",
      "[-2, 1, -1, -3, -5]\n",
      "[-4, -1, 0, -2, -2]\n",
      "[-6, -3, 0, -1, -3]\n",
      "[-8, -5, -2, 1, -1]\n",
      "[-10, -7, -4, -1, 2]\n",
      "['↖', '↖', '↖', '↑', '↖']\n",
      "The sequences are  ATGCT   AGCT\n",
      "The aligned sequences are  ('A-GCT', 'ATGCT')\n",
      "[0, -2, -4, -6, -8, -10]\n",
      "[-2, 1, -1, -3, -5, -7]\n",
      "[-4, -1, 2, 0, -2, -4]\n",
      "[-6, -3, 0, 3, 1, -1]\n",
      "[-8, -5, -2, 1, 2, 0]\n",
      "[-10, -7, -4, -1, 2, 1]\n",
      "[-12, -9, -6, -3, 0, 3]\n",
      "['↖', '↖', '↑', '↖', '↖', '↖']\n",
      "The sequences are  CCGTCG   CCGCG\n",
      "The aligned sequences are  ('CCG-CG', 'CCGTCG')\n"
     ]
    }
   ],
   "source": [
    "def MatrixScoresandPath(str1, str2):\n",
    "    x = len(max(str1,str2))\n",
    "    a=max(str1,str2)\n",
    "    b=min(str1,str2)\n",
    "    y = len(min(str1,str2))\n",
    "    Mat = [[0 for i in range(y+1)] for i in range(x+1)]  \n",
    "    for i in range(0,x+1):\n",
    "        Mat[i][0]=-2*i\n",
    "    for j in range(0,y+1):\n",
    "        Mat[0][j]=-2*j\n",
    "    for i in range(1, x+1):\n",
    "        for j in range(1, y+1):\n",
    "            Mat[i][j] = max([Mat[i-1][j-1]+(1 if a[i-1]==b[j-1] else -1),Mat[i-1][j]-2,Mat[i][j-1]-2])\n",
    "    for i in range(len(Mat)):\n",
    "        print(Mat[i])\n",
    "    res=MANHATTANTOURISTtraceback(x,y,Mat,max(str1,str2),min(str1,str2))\n",
    "    print(\"The sequences are \",max(str1,str2),\" \",min(str1,str2))\n",
    "    print(\"The aligned sequences are \", res)\n",
    "str1 = \"ATGCT\"\n",
    "str2 = \"AGCT\"\n",
    "MatrixScoresandPath(str2, str1)\n",
    "str3 = \"CCGTCG\"\n",
    "str4 = \"CCGCG\"\n",
    "MatrixScoresandPath(str3, str4)"
   ]
  }
 ],
 "metadata": {
  "kernelspec": {
   "display_name": "Python 3",
   "language": "python",
   "name": "python3"
  },
  "language_info": {
   "codemirror_mode": {
    "name": "ipython",
    "version": 3
   },
   "file_extension": ".py",
   "mimetype": "text/x-python",
   "name": "python",
   "nbconvert_exporter": "python",
   "pygments_lexer": "ipython3",
   "version": "3.8.8"
  }
 },
 "nbformat": 4,
 "nbformat_minor": 5
}
